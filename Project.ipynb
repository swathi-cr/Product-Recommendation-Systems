{
 "cells": [
  {
   "cell_type": "markdown",
   "metadata": {},
   "source": [
    "# Product Recommendation Systems"
   ]
  },
  {
   "cell_type": "markdown",
   "metadata": {},
   "source": [
    "# Objective -> To make a recommendation system that recommends at least five(5) new products based on the user's habits. "
   ]
  },
  {
   "cell_type": "markdown",
   "metadata": {},
   "source": [
    "# DataSet: https://drive.google.com/file/d/1ClBptsK3V5KgKXtK2GSRzFNAW7GnTPDW/view?usp=sharing"
   ]
  },
  {
   "cell_type": "code",
   "execution_count": 1,
   "metadata": {},
   "outputs": [],
   "source": [
    "import pandas as pd\n",
    "import numpy as np\n",
    "import matplotlib.pyplot as plt\n",
    "import seaborn as sns\n",
    "from sklearn.model_selection import train_test_split as ts\n",
    "import warnings; warnings.simplefilter('ignore')\n",
    "from sklearn.pipeline import Pipeline\n",
    "from surprise.model_selection import GridSearchCV\n",
    "from surprise import Dataset,Reader\n",
    "from surprise.model_selection import train_test_split\n",
    "from surprise import KNNWithMeans\n",
    "from surprise.model_selection import cross_validate\n",
    "from surprise.prediction_algorithms.predictions import Prediction\n",
    "from surprise import accuracy\n",
    "import scipy.sparse\n",
    "from scipy.sparse import csr_matrix\n",
    "from scipy.sparse.linalg import svds\n"
   ]
  },
  {
   "cell_type": "code",
   "execution_count": 2,
   "metadata": {},
   "outputs": [
    {
     "data": {
      "text/html": [
       "<div>\n",
       "<style scoped>\n",
       "    .dataframe tbody tr th:only-of-type {\n",
       "        vertical-align: middle;\n",
       "    }\n",
       "\n",
       "    .dataframe tbody tr th {\n",
       "        vertical-align: top;\n",
       "    }\n",
       "\n",
       "    .dataframe thead th {\n",
       "        text-align: right;\n",
       "    }\n",
       "</style>\n",
       "<table border=\"1\" class=\"dataframe\">\n",
       "  <thead>\n",
       "    <tr style=\"text-align: right;\">\n",
       "      <th></th>\n",
       "      <th>UserId</th>\n",
       "      <th>ProductId</th>\n",
       "      <th>Ratings</th>\n",
       "      <th>Timestamp</th>\n",
       "    </tr>\n",
       "  </thead>\n",
       "  <tbody>\n",
       "    <tr>\n",
       "      <td>0</td>\n",
       "      <td>AKM1MP6P0OYPR</td>\n",
       "      <td>0132793040</td>\n",
       "      <td>5.0</td>\n",
       "      <td>1365811200</td>\n",
       "    </tr>\n",
       "    <tr>\n",
       "      <td>1</td>\n",
       "      <td>A2CX7LUOHB2NDG</td>\n",
       "      <td>0321732944</td>\n",
       "      <td>5.0</td>\n",
       "      <td>1341100800</td>\n",
       "    </tr>\n",
       "    <tr>\n",
       "      <td>2</td>\n",
       "      <td>A2NWSAGRHCP8N5</td>\n",
       "      <td>0439886341</td>\n",
       "      <td>1.0</td>\n",
       "      <td>1367193600</td>\n",
       "    </tr>\n",
       "    <tr>\n",
       "      <td>3</td>\n",
       "      <td>A2WNBOD3WNDNKT</td>\n",
       "      <td>0439886341</td>\n",
       "      <td>3.0</td>\n",
       "      <td>1374451200</td>\n",
       "    </tr>\n",
       "    <tr>\n",
       "      <td>4</td>\n",
       "      <td>A1GI0U4ZRJA8WN</td>\n",
       "      <td>0439886341</td>\n",
       "      <td>1.0</td>\n",
       "      <td>1334707200</td>\n",
       "    </tr>\n",
       "  </tbody>\n",
       "</table>\n",
       "</div>"
      ],
      "text/plain": [
       "           UserId   ProductId  Ratings   Timestamp\n",
       "0   AKM1MP6P0OYPR  0132793040      5.0  1365811200\n",
       "1  A2CX7LUOHB2NDG  0321732944      5.0  1341100800\n",
       "2  A2NWSAGRHCP8N5  0439886341      1.0  1367193600\n",
       "3  A2WNBOD3WNDNKT  0439886341      3.0  1374451200\n",
       "4  A1GI0U4ZRJA8WN  0439886341      1.0  1334707200"
      ]
     },
     "execution_count": 2,
     "metadata": {},
     "output_type": "execute_result"
    }
   ],
   "source": [
    "amazon_electronics_data=pd.read_csv(\"ratings_Electronics.csv\",names=[\"UserId\", \"ProductId\", \"Ratings\", \"Timestamp\"])#Read the CSV file\n",
    "amazon_electronics_data.head()#Top 5 records"
   ]
  },
  {
   "cell_type": "markdown",
   "metadata": {},
   "source": [
    "# Understanding the Data"
   ]
  },
  {
   "cell_type": "code",
   "execution_count": 3,
   "metadata": {},
   "outputs": [
    {
     "name": "stdout",
     "output_type": "stream",
     "text": [
      "Number of Rows in dataset is: 7824482\n",
      "Number of Columns in dataset is: 4\n"
     ]
    }
   ],
   "source": [
    "r,c=amazon_electronics_data.shape#Shape of the Dateset\n",
    "print ('Number of Rows in dataset is: {}'.format(r))\n",
    "print ('Number of Columns in dataset is: {}'.format(c))\n"
   ]
  },
  {
   "cell_type": "code",
   "execution_count": 4,
   "metadata": {},
   "outputs": [
    {
     "name": "stdout",
     "output_type": "stream",
     "text": [
      "\n",
      "The columns available are :\n"
     ]
    },
    {
     "data": {
      "text/html": [
       "<div>\n",
       "<style scoped>\n",
       "    .dataframe tbody tr th:only-of-type {\n",
       "        vertical-align: middle;\n",
       "    }\n",
       "\n",
       "    .dataframe tbody tr th {\n",
       "        vertical-align: top;\n",
       "    }\n",
       "\n",
       "    .dataframe thead th {\n",
       "        text-align: right;\n",
       "    }\n",
       "</style>\n",
       "<table border=\"1\" class=\"dataframe\">\n",
       "  <thead>\n",
       "    <tr style=\"text-align: right;\">\n",
       "      <th></th>\n",
       "      <th>ColumnName</th>\n",
       "      <th>ColumnDescription</th>\n",
       "    </tr>\n",
       "  </thead>\n",
       "  <tbody>\n",
       "    <tr>\n",
       "      <td>0</td>\n",
       "      <td>UserId</td>\n",
       "      <td>User Id Details</td>\n",
       "    </tr>\n",
       "    <tr>\n",
       "      <td>1</td>\n",
       "      <td>ProductId</td>\n",
       "      <td>Product Id Details</td>\n",
       "    </tr>\n",
       "    <tr>\n",
       "      <td>2</td>\n",
       "      <td>Ratings</td>\n",
       "      <td>Ratings on the Product</td>\n",
       "    </tr>\n",
       "    <tr>\n",
       "      <td>3</td>\n",
       "      <td>Timestamp</td>\n",
       "      <td>Timestamp</td>\n",
       "    </tr>\n",
       "  </tbody>\n",
       "</table>\n",
       "</div>"
      ],
      "text/plain": [
       "  ColumnName       ColumnDescription\n",
       "0     UserId         User Id Details\n",
       "1  ProductId      Product Id Details\n",
       "2    Ratings  Ratings on the Product\n",
       "3  Timestamp               Timestamp"
      ]
     },
     "execution_count": 4,
     "metadata": {},
     "output_type": "execute_result"
    }
   ],
   "source": [
    "print ('\\nThe columns available are :') #Column Description\n",
    "attr=pd.DataFrame(amazon_electronics_data.columns.tolist(),columns = ['ColumnName'])\n",
    "attr['ColumnDescription']=pd.Series(['User Id Details','Product Id Details','Ratings on the Product','Timestamp'])\n",
    "attr"
   ]
  },
  {
   "cell_type": "code",
   "execution_count": 5,
   "metadata": {},
   "outputs": [
    {
     "name": "stdout",
     "output_type": "stream",
     "text": [
      "\n",
      "The Column datatypes are: \n",
      "\n",
      "<class 'pandas.core.frame.DataFrame'>\n",
      "RangeIndex: 7824482 entries, 0 to 7824481\n",
      "Data columns (total 4 columns):\n",
      "UserId       object\n",
      "ProductId    object\n",
      "Ratings      float64\n",
      "Timestamp    int64\n",
      "dtypes: float64(1), int64(1), object(2)\n",
      "memory usage: 238.8+ MB\n"
     ]
    }
   ],
   "source": [
    "print('\\nThe Column datatypes are: \\n') #Columns Datatypes \n",
    "amazon_electronics_data.info()"
   ]
  },
  {
   "cell_type": "markdown",
   "metadata": {},
   "source": [
    "There are 7824482 records in the data and 4 columns.\n",
    "UserId & Productid are of type Object and rating is of type Float.\n",
    "Timestamp column which indicates the time at which the rating was provided which will not be useful to derive the information hence can be deleted."
   ]
  },
  {
   "cell_type": "code",
   "execution_count": 6,
   "metadata": {},
   "outputs": [
    {
     "data": {
      "text/plain": [
       "UserId       0\n",
       "ProductId    0\n",
       "Ratings      0\n",
       "Timestamp    0\n",
       "dtype: int64"
      ]
     },
     "execution_count": 6,
     "metadata": {},
     "output_type": "execute_result"
    }
   ],
   "source": [
    "#Checking the Null Count\n",
    "amazon_electronics_data.isna().sum()"
   ]
  },
  {
   "cell_type": "code",
   "execution_count": 7,
   "metadata": {},
   "outputs": [
    {
     "name": "stdout",
     "output_type": "stream",
     "text": [
      "There are no duplicate records in the dataset\n"
     ]
    }
   ],
   "source": [
    "#Checking the duplicate records\n",
    "dup=amazon_electronics_data.duplicated()\n",
    "if sum(dup)==0:\n",
    "    print(\"There are no duplicate records in the dataset\")\n",
    "else:\n",
    "    print(\"There are {} duplicate records in the dataset\".format(sum(dup)))"
   ]
  },
  {
   "cell_type": "code",
   "execution_count": 8,
   "metadata": {},
   "outputs": [
    {
     "data": {
      "text/plain": [
       "count    7.824482e+06\n",
       "mean     4.012337e+00\n",
       "std      1.380910e+00\n",
       "min      1.000000e+00\n",
       "25%      3.000000e+00\n",
       "50%      5.000000e+00\n",
       "75%      5.000000e+00\n",
       "max      5.000000e+00\n",
       "Name: Ratings, dtype: float64"
      ]
     },
     "execution_count": 8,
     "metadata": {},
     "output_type": "execute_result"
    }
   ],
   "source": [
    "amazon_electronics_data['Ratings'].describe().transpose()"
   ]
  },
  {
   "cell_type": "markdown",
   "metadata": {},
   "source": [
    "There are 4201696 Unique Users in the Data and 476002 Unique Products available.\n",
    "There are 5 Distinct ratings that can be provided i.e. 1 to 5.\n",
    "There are no null values and duplicate records in the records.\n",
    "Mean ratings is 4 and Ratings are in the range 1-5."
   ]
  },
  {
   "cell_type": "markdown",
   "metadata": {},
   "source": [
    "# Univariate Analysis"
   ]
  },
  {
   "cell_type": "code",
   "execution_count": 3,
   "metadata": {},
   "outputs": [
    {
     "name": "stdout",
     "output_type": "stream",
     "text": [
      "Unique Value count in the column UserId is 4201696\n",
      "Unique Value count in the column ProductId is 476002\n",
      "Unique Value count in the column Ratings is 5\n"
     ]
    }
   ],
   "source": [
    "#Dropping the Timestamp Column\n",
    "amazon_electronics_data.drop('Timestamp',axis=1,inplace=True)\n",
    "#Finding the unique value count\n",
    "for i in amazon_electronics_data.columns.tolist():\n",
    "    print('Unique Value count in the column {} is {}'.format(i,amazon_electronics_data[i].nunique()))"
   ]
  },
  {
   "cell_type": "code",
   "execution_count": 4,
   "metadata": {},
   "outputs": [
    {
     "name": "stdout",
     "output_type": "stream",
     "text": [
      "There are 2881832 Users who bought only 1 product and rated it\n",
      "There are 1319596 Users who bought less than 100 product and rated it\n",
      "There are 217 Users who bought more than 100 and less than 200 product and rated it\n",
      "There are 42 Users who bought more than 200 and less than 300 product and rated it\n",
      "There are 4 Users who bought more than 300 and less than 400 product and rated it\n",
      "There are 4 Users who bought more than 400 and less than 500 product and rated it\n",
      "There are 1 Users who bought more than 500 and less than 600 product and rated it\n"
     ]
    }
   ],
   "source": [
    "#UserId Column Analysis\n",
    "user_list=pd.DataFrame(amazon_electronics_data.groupby('UserId').size(),columns=['Size'])\n",
    "user_list=user_list.reset_index()\n",
    "print('There are {} Users who bought only 1 product and rated it'.format(user_list[user_list['Size'].between(0,1)].count()[0]))\n",
    "print('There are {} Users who bought less than 100 product and rated it'.format(user_list[user_list['Size'].between(2,101)].count()[0]))\n",
    "print('There are {} Users who bought more than 100 and less than 200 product and rated it'.format(user_list[user_list['Size'].between(102,201)].count()[0]))\n",
    "print('There are {} Users who bought more than 200 and less than 300 product and rated it'.format(user_list[user_list['Size'].between(202,301)].count()[0]))\n",
    "print('There are {} Users who bought more than 300 and less than 400 product and rated it'.format(user_list[user_list['Size'].between(302,401)].count()[0]))\n",
    "print('There are {} Users who bought more than 400 and less than 500 product and rated it'.format(user_list[user_list['Size'].between(402,501)].count()[0]))\n",
    "print('There are {} Users who bought more than 500 and less than 600 product and rated it'.format(user_list[user_list['Size'].between(502,601)].count()[0]))"
   ]
  },
  {
   "cell_type": "code",
   "execution_count": 5,
   "metadata": {},
   "outputs": [
    {
     "name": "stdout",
     "output_type": "stream",
     "text": [
      "                       Size\n",
      "User_List_Category         \n",
      "(0, 50]             4200230\n",
      "(50, 100]              1186\n",
      "(100, 150]              182\n",
      "(150, 200]               47\n",
      "(200, 250]               28\n",
      "(250, 300]               14\n",
      "(300, 350]                3\n",
      "(350, 400]                1\n",
      "(400, 450]                2\n",
      "(450, 500]                1\n",
      "(500, 550]                2\n"
     ]
    },
    {
     "data": {
      "image/png": "[encoded data removed]",
      "text/plain": [
       "<Figure size 432x288 with 1 Axes>"
      ]
     },
     "metadata": {
      "needs_background": "light"
     },
     "output_type": "display_data"
    }
   ],
   "source": [
    "#UserId Column Analysis\n",
    "user_list['User_List_Category']=pd.cut(x=user_list['Size'], bins=[0,50,100,150,200,250,300,350,400,450,500,550])\n",
    "a=pd.pivot_table(user_list, index='User_List_Category',values='Size', aggfunc='count')\n",
    "print(a)\n",
    "pd.pivot_table(user_list, index='User_List_Category',values='Size', aggfunc='count').plot(kind='line')\n",
    "plt.show()"
   ]
  },
  {
   "cell_type": "code",
   "execution_count": 6,
   "metadata": {},
   "outputs": [
    {
     "name": "stdout",
     "output_type": "stream",
     "text": [
      "Top 10 Users who have done Max Purchases:\n"
     ]
    },
    {
     "data": {
      "text/html": [
       "<div>\n",
       "<style scoped>\n",
       "    .dataframe tbody tr th:only-of-type {\n",
       "        vertical-align: middle;\n",
       "    }\n",
       "\n",
       "    .dataframe tbody tr th {\n",
       "        vertical-align: top;\n",
       "    }\n",
       "\n",
       "    .dataframe thead th {\n",
       "        text-align: right;\n",
       "    }\n",
       "</style>\n",
       "<table border=\"1\" class=\"dataframe\">\n",
       "  <thead>\n",
       "    <tr style=\"text-align: right;\">\n",
       "      <th></th>\n",
       "      <th>Ratings</th>\n",
       "    </tr>\n",
       "    <tr>\n",
       "      <th>UserId</th>\n",
       "      <th></th>\n",
       "    </tr>\n",
       "  </thead>\n",
       "  <tbody>\n",
       "    <tr>\n",
       "      <td>A5JLAU2ARJ0BO</td>\n",
       "      <td>520</td>\n",
       "    </tr>\n",
       "    <tr>\n",
       "      <td>ADLVFFE4VBT8</td>\n",
       "      <td>501</td>\n",
       "    </tr>\n",
       "    <tr>\n",
       "      <td>A3OXHLG6DIBRW8</td>\n",
       "      <td>498</td>\n",
       "    </tr>\n",
       "    <tr>\n",
       "      <td>A6FIAB28IS79</td>\n",
       "      <td>431</td>\n",
       "    </tr>\n",
       "    <tr>\n",
       "      <td>A680RUE1FDO8B</td>\n",
       "      <td>406</td>\n",
       "    </tr>\n",
       "    <tr>\n",
       "      <td>A1ODOGXEYECQQ8</td>\n",
       "      <td>380</td>\n",
       "    </tr>\n",
       "    <tr>\n",
       "      <td>A36K2N527TXXJN</td>\n",
       "      <td>314</td>\n",
       "    </tr>\n",
       "    <tr>\n",
       "      <td>A2AY4YUOX2N1BQ</td>\n",
       "      <td>311</td>\n",
       "    </tr>\n",
       "    <tr>\n",
       "      <td>AWPODHOB4GFWL</td>\n",
       "      <td>308</td>\n",
       "    </tr>\n",
       "    <tr>\n",
       "      <td>A25C2M3QF9G7OQ</td>\n",
       "      <td>296</td>\n",
       "    </tr>\n",
       "  </tbody>\n",
       "</table>\n",
       "</div>"
      ],
      "text/plain": [
       "                Ratings\n",
       "UserId                 \n",
       "A5JLAU2ARJ0BO       520\n",
       "ADLVFFE4VBT8        501\n",
       "A3OXHLG6DIBRW8      498\n",
       "A6FIAB28IS79        431\n",
       "A680RUE1FDO8B       406\n",
       "A1ODOGXEYECQQ8      380\n",
       "A36K2N527TXXJN      314\n",
       "A2AY4YUOX2N1BQ      311\n",
       "AWPODHOB4GFWL       308\n",
       "A25C2M3QF9G7OQ      296"
      ]
     },
     "execution_count": 6,
     "metadata": {},
     "output_type": "execute_result"
    }
   ],
   "source": [
    "most_rated_users = pd.DataFrame(amazon_electronics_data.groupby('UserId')['Ratings'].count())\n",
    "most_rated_user = most_rated_users.sort_values('Ratings', ascending=False)\n",
    "print('Top 10 Users who have done Max Purchases:')\n",
    "most_rated_user.head(10)"
   ]
  },
  {
   "cell_type": "code",
   "execution_count": 13,
   "metadata": {},
   "outputs": [
    {
     "data": {
      "image/png": "[encoded data removed]",
      "text/plain": [
       "<Figure size 432x288 with 1 Axes>"
      ]
     },
     "metadata": {
      "needs_background": "light"
     },
     "output_type": "display_data"
    }
   ],
   "source": [
    "most_rated_user.head(10).plot(kind=\"bar\")\n",
    "plt.show()"
   ]
  },
  {
   "cell_type": "code",
   "execution_count": 5,
   "metadata": {},
   "outputs": [
    {
     "name": "stdout",
     "output_type": "stream",
     "text": [
      "There are 179738 Products which is rated only once\n",
      "There are 283322 Products which is rated less than 100 times\n",
      "There are 6889 Products which is rated more than 100 and less than 200 times\n",
      "There are 2343 Products which is rated more than 200 and less than 300 times\n",
      "There are 1181 Products which is rated more than 300 and less than 400 times\n",
      "There are 660 Products which is rated more than 400 and less than 500 times\n",
      "There are 445 Products which is rated more than 500 and less than 600 times\n",
      "There are 279 Products which is rated more than 600 and less than 700 times\n",
      "There are 207 Products which is rated more than 700 and less than 800 times\n",
      "There are 151 Products which is rated more than 800 and less than 900 times\n",
      "There are 123 Products which is rated more than 900 and less than 1000 times\n",
      "There are 665 Products which is rated more than 1000 times\n"
     ]
    }
   ],
   "source": [
    "#ProductId Analysis\n",
    "Product_list=pd.DataFrame(amazon_electronics_data.groupby('ProductId').size(),columns=['Size'])\n",
    "Product_list=Product_list.reset_index()\n",
    "print('There are {} Products which is rated only once'.format(Product_list[Product_list['Size'].between(0,1)].count()[0]))\n",
    "print('There are {} Products which is rated less than 100 times'.format(Product_list[Product_list['Size'].between(2,101)].count()[0]))\n",
    "print('There are {} Products which is rated more than 100 and less than 200 times'.format(Product_list[Product_list['Size'].between(102,201)].count()[0]))\n",
    "print('There are {} Products which is rated more than 200 and less than 300 times'.format(Product_list[Product_list['Size'].between(202,301)].count()[0]))\n",
    "print('There are {} Products which is rated more than 300 and less than 400 times'.format(Product_list[Product_list['Size'].between(302,401)].count()[0]))\n",
    "print('There are {} Products which is rated more than 400 and less than 500 times'.format(Product_list[Product_list['Size'].between(402,501)].count()[0]))\n",
    "print('There are {} Products which is rated more than 500 and less than 600 times'.format(Product_list[Product_list['Size'].between(502,601)].count()[0]))\n",
    "print('There are {} Products which is rated more than 600 and less than 700 times'.format(Product_list[Product_list['Size'].between(602,701)].count()[0]))\n",
    "print('There are {} Products which is rated more than 700 and less than 800 times'.format(Product_list[Product_list['Size'].between(702,801)].count()[0]))\n",
    "print('There are {} Products which is rated more than 800 and less than 900 times'.format(Product_list[Product_list['Size'].between(802,901)].count()[0]))\n",
    "print('There are {} Products which is rated more than 900 and less than 1000 times'.format(Product_list[Product_list['Size'].between(902,1001)].count()[0]))\n",
    "print('There are {} Products which is rated more than 1000 times'.format(Product_list[Product_list['Size'].between(1001,50000)].count()[0]))"
   ]
  },
  {
   "cell_type": "code",
   "execution_count": 8,
   "metadata": {},
   "outputs": [
    {
     "name": "stdout",
     "output_type": "stream",
     "text": [
      "                         Size\n",
      "Product_list_Category        \n",
      "(0, 50]                450244\n",
      "(50, 100]               12681\n",
      "(100, 150]               4648\n",
      "(150, 200]               2344\n",
      "(200, 250]               1449\n",
      "(250, 300]                910\n",
      "(300, 350]                698\n",
      "(350, 400]                492\n",
      "(400, 450]                364\n",
      "(450, 500]                302\n",
      "(500, 550]                249\n"
     ]
    },
    {
     "data": {
      "image/png": "[encoded data removed]",
      "text/plain": [
       "<Figure size 432x288 with 1 Axes>"
      ]
     },
     "metadata": {
      "needs_background": "light"
     },
     "output_type": "display_data"
    }
   ],
   "source": [
    "#ProductId Analysis\n",
    "Product_list['Product_list_Category']=pd.cut(x=Product_list['Size'], bins=[0,50,100,150,200,250,300,350,400,450,500,550])\n",
    "a=pd.pivot_table(Product_list, index='Product_list_Category',values='Size', aggfunc='count')\n",
    "print(a)\n",
    "pd.pivot_table(Product_list, index='Product_list_Category',values='Size', aggfunc='count').plot(kind='line')\n",
    "plt.show()"
   ]
  },
  {
   "cell_type": "code",
   "execution_count": 9,
   "metadata": {},
   "outputs": [
    {
     "name": "stdout",
     "output_type": "stream",
     "text": [
      "Top 10 popular products are:\n"
     ]
    },
    {
     "data": {
      "text/html": [
       "<div>\n",
       "<style scoped>\n",
       "    .dataframe tbody tr th:only-of-type {\n",
       "        vertical-align: middle;\n",
       "    }\n",
       "\n",
       "    .dataframe tbody tr th {\n",
       "        vertical-align: top;\n",
       "    }\n",
       "\n",
       "    .dataframe thead th {\n",
       "        text-align: right;\n",
       "    }\n",
       "</style>\n",
       "<table border=\"1\" class=\"dataframe\">\n",
       "  <thead>\n",
       "    <tr style=\"text-align: right;\">\n",
       "      <th></th>\n",
       "      <th>Ratings</th>\n",
       "    </tr>\n",
       "    <tr>\n",
       "      <th>ProductId</th>\n",
       "      <th></th>\n",
       "    </tr>\n",
       "  </thead>\n",
       "  <tbody>\n",
       "    <tr>\n",
       "      <td>B0074BW614</td>\n",
       "      <td>18244</td>\n",
       "    </tr>\n",
       "    <tr>\n",
       "      <td>B00DR0PDNE</td>\n",
       "      <td>16454</td>\n",
       "    </tr>\n",
       "    <tr>\n",
       "      <td>B007WTAJTO</td>\n",
       "      <td>14172</td>\n",
       "    </tr>\n",
       "    <tr>\n",
       "      <td>B0019EHU8G</td>\n",
       "      <td>12285</td>\n",
       "    </tr>\n",
       "    <tr>\n",
       "      <td>B006GWO5WK</td>\n",
       "      <td>12226</td>\n",
       "    </tr>\n",
       "    <tr>\n",
       "      <td>B003ELYQGG</td>\n",
       "      <td>11617</td>\n",
       "    </tr>\n",
       "    <tr>\n",
       "      <td>B003ES5ZUU</td>\n",
       "      <td>10276</td>\n",
       "    </tr>\n",
       "    <tr>\n",
       "      <td>B007R5YDYA</td>\n",
       "      <td>9907</td>\n",
       "    </tr>\n",
       "    <tr>\n",
       "      <td>B00622AG6S</td>\n",
       "      <td>9823</td>\n",
       "    </tr>\n",
       "    <tr>\n",
       "      <td>B0002L5R78</td>\n",
       "      <td>9487</td>\n",
       "    </tr>\n",
       "  </tbody>\n",
       "</table>\n",
       "</div>"
      ],
      "text/plain": [
       "            Ratings\n",
       "ProductId          \n",
       "B0074BW614    18244\n",
       "B00DR0PDNE    16454\n",
       "B007WTAJTO    14172\n",
       "B0019EHU8G    12285\n",
       "B006GWO5WK    12226\n",
       "B003ELYQGG    11617\n",
       "B003ES5ZUU    10276\n",
       "B007R5YDYA     9907\n",
       "B00622AG6S     9823\n",
       "B0002L5R78     9487"
      ]
     },
     "execution_count": 9,
     "metadata": {},
     "output_type": "execute_result"
    }
   ],
   "source": [
    "popular_products = pd.DataFrame(amazon_electronics_data.groupby('ProductId')['Ratings'].count())\n",
    "most_popular = popular_products.sort_values('Ratings', ascending=False)\n",
    "print('Top 10 popular products are:')\n",
    "most_popular.head(10)"
   ]
  },
  {
   "cell_type": "code",
   "execution_count": 10,
   "metadata": {},
   "outputs": [
    {
     "data": {
      "image/png": "[encoded data removed]",
      "text/plain": [
       "<Figure size 432x288 with 1 Axes>"
      ]
     },
     "metadata": {
      "needs_background": "light"
     },
     "output_type": "display_data"
    }
   ],
   "source": [
    "most_popular.head(20).plot(kind=\"bar\")\n",
    "plt.show()"
   ]
  },
  {
   "cell_type": "code",
   "execution_count": 11,
   "metadata": {},
   "outputs": [
    {
     "data": {
      "image/png": "[encoded data removed]",
      "text/plain": [
       "<Figure size 360x360 with 1 Axes>"
      ]
     },
     "metadata": {
      "needs_background": "light"
     },
     "output_type": "display_data"
    },
    {
     "data": {
      "text/plain": [
       "5.0    4347541\n",
       "4.0    1485781\n",
       "1.0     901765\n",
       "3.0     633073\n",
       "2.0     456322\n",
       "Name: Ratings, dtype: int64"
      ]
     },
     "execution_count": 11,
     "metadata": {},
     "output_type": "execute_result"
    }
   ],
   "source": [
    "#Ratings Column Analysis\n",
    "ax=amazon_electronics_data['Ratings'].value_counts().plot(kind='bar',figsize=(5,5))\n",
    "plt.show()\n",
    "amazon_electronics_data['Ratings'].value_counts()"
   ]
  },
  {
   "cell_type": "markdown",
   "metadata": {},
   "source": [
    "There are 4201428 Users rated less than 100 times and 268 Users rated more than 100 times.\n",
    "There are 473473 Products which has been rated less than 400 times and 2530 Products which has been rated more than 400 times.\n",
    "There are 5 different Ratings most of the records in the dataset has the rating 5 only few dataset has the rating 2. \n",
    "According to the above dataset there are many records of users who have rated once hence we can consider only the records who have bought more than 50 products for prediction."
   ]
  },
  {
   "cell_type": "markdown",
   "metadata": {},
   "source": [
    "# BiVariate Analysis"
   ]
  },
  {
   "cell_type": "code",
   "execution_count": 19,
   "metadata": {},
   "outputs": [
    {
     "name": "stdout",
     "output_type": "stream",
     "text": [
      "User who has Bought most of the products is: 3263531    A5JLAU2ARJ0BO\n",
      "Name: UserId, dtype: object\n",
      "5.0    275\n",
      "4.0     83\n",
      "1.0     67\n",
      "2.0     51\n",
      "3.0     44\n",
      "Name: Ratings, dtype: int64\n"
     ]
    },
    {
     "data": {
      "image/png": "[encoded data removed]",
      "text/plain": [
       "<Figure size 360x360 with 1 Axes>"
      ]
     },
     "metadata": {
      "needs_background": "light"
     },
     "output_type": "display_data"
    }
   ],
   "source": [
    "#User vs Rating\n",
    "print('User who has Bought most of the products is: {}'.format(user_list[user_list['Size'].between(502,601)]['UserId']))\n",
    "print(amazon_electronics_data[amazon_electronics_data['UserId']=='A5JLAU2ARJ0BO']['Ratings'].value_counts())\n",
    "amazon_electronics_data[amazon_electronics_data['UserId']=='A5JLAU2ARJ0BO']['Ratings'].value_counts().plot(kind='bar',figsize=(5,5))\n",
    "plt.show()"
   ]
  },
  {
   "cell_type": "code",
   "execution_count": 20,
   "metadata": {},
   "outputs": [
    {
     "name": "stdout",
     "output_type": "stream",
     "text": [
      "Product which was sold most was: 308398    B0074BW614\n",
      "Name: ProductId, dtype: object\n",
      "5.0    12765\n",
      "4.0     3333\n",
      "3.0     1058\n",
      "1.0      564\n",
      "2.0      524\n",
      "Name: Ratings, dtype: int64\n"
     ]
    },
    {
     "data": {
      "image/png": "[encoded data removed]",
      "text/plain": [
       "<Figure size 360x360 with 1 Axes>"
      ]
     },
     "metadata": {
      "needs_background": "light"
     },
     "output_type": "display_data"
    }
   ],
   "source": [
    "print('Product which was sold most was: {}'.format(Product_list[Product_list['Size']==Product_list[Product_list['Size']>1000].Size.max()]['ProductId']))\n",
    "print(amazon_electronics_data[amazon_electronics_data['ProductId']=='B0074BW614']['Ratings'].value_counts())\n",
    "amazon_electronics_data[amazon_electronics_data['ProductId']=='B0074BW614']['Ratings'].value_counts().plot(kind='bar',figsize=(5,5))\n",
    "plt.show()"
   ]
  },
  {
   "cell_type": "markdown",
   "metadata": {},
   "source": [
    "User A5JLAU2ARJ0BO has done highest number of purchases and has given 5 ratings for 275 products  , 4 for 83 products , 3 for 44 products, 2 for 51 products and 1 for 67 products.\n",
    "\n",
    "Product B0074BW614 has been rated maximum times and 12765 Users has rated product as 5, 3333 Users have rated product as 4, 1058 Users have rated product as 3, 524 Users have rated product as 2 and 564 Users have rated product as 1.\n",
    "\n",
    "Since data is sparse it can be filteres based on Users who have rated more than 50 products and this can be used in creation of User-User Collaborative Recommendation System. "
   ]
  },
  {
   "cell_type": "markdown",
   "metadata": {},
   "source": [
    "# Filtering the Data with Users who have rated less than 50 products"
   ]
  },
  {
   "cell_type": "code",
   "execution_count": 6,
   "metadata": {},
   "outputs": [
    {
     "name": "stdout",
     "output_type": "stream",
     "text": [
      "\n",
      "Head of new dataset created by Users who rated more than 50 times\n",
      "\n",
      "             UserId   ProductId  Ratings\n",
      "118   AT09WGFUM934H  0594481813      3.0\n",
      "177  A32HSNCNPRUMTR  0970407998      1.0\n",
      "178  A17HMM1M7T9PJ1  0970407998      4.0\n",
      "492  A3CLWR1UUZT6TG  0972683275      5.0\n",
      "631  A3TAS1AG6FMBQW  0972683275      5.0\n",
      "\n",
      "Number of Rows in dataset created by Users who rated more than 50 times: 122171\n",
      "Number of Columns in dataset created by Users who rated more than 50 times: 3\n",
      "\n",
      "Unique Value count in the column UserId is 1466\n",
      "Unique Value count in the column ProductId is 47155\n",
      "Unique Value count in the column Ratings is 5\n"
     ]
    }
   ],
   "source": [
    "#User rated more than 50\n",
    "amazon_electronics_data_usr=amazon_electronics_data[amazon_electronics_data['UserId'].isin(user_list[user_list['Size'].between(51,520)]['UserId'])]\n",
    "r,c=amazon_electronics_data_usr.shape#Shape of the Dateset\n",
    "print('\\nHead of new dataset created by Users who rated more than 50 times\\n')\n",
    "print(amazon_electronics_data_usr.head())\n",
    "print ('\\nNumber of Rows in dataset created by Users who rated more than 50 times: {}'.format(r))\n",
    "print ('Number of Columns in dataset created by Users who rated more than 50 times: {}\\n'.format(c))\n",
    "for i in amazon_electronics_data_usr.columns.tolist():\n",
    "    print('Unique Value count in the column {} is {}'.format(i,amazon_electronics_data_usr[i].nunique()))"
   ]
  },
  {
   "cell_type": "code",
   "execution_count": 13,
   "metadata": {},
   "outputs": [
    {
     "name": "stdout",
     "output_type": "stream",
     "text": [
      "                    Ratings\n",
      "User_list_Category         \n",
      "(50, 75]                908\n",
      "(75, 100]               278\n",
      "(100, 125]              127\n",
      "(125, 150]               55\n",
      "(150, 175]               27\n",
      "(175, 200]               20\n",
      "(200, 225]               17\n",
      "(225, 250]               11\n",
      "(250, 300]               14\n",
      "(300, 325]                3\n"
     ]
    },
    {
     "data": {
      "image/png": "[encoded data removed]",
      "text/plain": [
       "<Figure size 432x288 with 1 Axes>"
      ]
     },
     "metadata": {
      "needs_background": "light"
     },
     "output_type": "display_data"
    }
   ],
   "source": [
    "User_list_new=pd.DataFrame(amazon_electronics_data_usr.groupby('UserId')['Ratings'].count())\n",
    "#User_list_new=User_list_new.reset_index()\n",
    "User_list_new['User_list_Category']=pd.cut(x=User_list_new['Ratings'], bins=[50,75,100,125,150,175,200,225,250,300,325])\n",
    "a=pd.pivot_table(User_list_new, index='User_list_Category',values='Ratings', aggfunc='count')\n",
    "print(a)\n",
    "pd.pivot_table(User_list_new, index='User_list_Category',values='Ratings', aggfunc='count').plot(kind='bar')\n",
    "plt.show()"
   ]
  },
  {
   "cell_type": "code",
   "execution_count": 14,
   "metadata": {},
   "outputs": [
    {
     "name": "stdout",
     "output_type": "stream",
     "text": [
      "Top 10 Users who have done Max Purchases:\n"
     ]
    },
    {
     "data": {
      "text/html": [
       "<div>\n",
       "<style scoped>\n",
       "    .dataframe tbody tr th:only-of-type {\n",
       "        vertical-align: middle;\n",
       "    }\n",
       "\n",
       "    .dataframe tbody tr th {\n",
       "        vertical-align: top;\n",
       "    }\n",
       "\n",
       "    .dataframe thead th {\n",
       "        text-align: right;\n",
       "    }\n",
       "</style>\n",
       "<table border=\"1\" class=\"dataframe\">\n",
       "  <thead>\n",
       "    <tr style=\"text-align: right;\">\n",
       "      <th></th>\n",
       "      <th>Ratings</th>\n",
       "    </tr>\n",
       "    <tr>\n",
       "      <th>UserId</th>\n",
       "      <th></th>\n",
       "    </tr>\n",
       "  </thead>\n",
       "  <tbody>\n",
       "    <tr>\n",
       "      <td>A5JLAU2ARJ0BO</td>\n",
       "      <td>520</td>\n",
       "    </tr>\n",
       "    <tr>\n",
       "      <td>ADLVFFE4VBT8</td>\n",
       "      <td>501</td>\n",
       "    </tr>\n",
       "    <tr>\n",
       "      <td>A3OXHLG6DIBRW8</td>\n",
       "      <td>498</td>\n",
       "    </tr>\n",
       "    <tr>\n",
       "      <td>A6FIAB28IS79</td>\n",
       "      <td>431</td>\n",
       "    </tr>\n",
       "    <tr>\n",
       "      <td>A680RUE1FDO8B</td>\n",
       "      <td>406</td>\n",
       "    </tr>\n",
       "    <tr>\n",
       "      <td>A1ODOGXEYECQQ8</td>\n",
       "      <td>380</td>\n",
       "    </tr>\n",
       "    <tr>\n",
       "      <td>A36K2N527TXXJN</td>\n",
       "      <td>314</td>\n",
       "    </tr>\n",
       "    <tr>\n",
       "      <td>A2AY4YUOX2N1BQ</td>\n",
       "      <td>311</td>\n",
       "    </tr>\n",
       "    <tr>\n",
       "      <td>AWPODHOB4GFWL</td>\n",
       "      <td>308</td>\n",
       "    </tr>\n",
       "    <tr>\n",
       "      <td>ARBKYIVNYWK3C</td>\n",
       "      <td>296</td>\n",
       "    </tr>\n",
       "  </tbody>\n",
       "</table>\n",
       "</div>"
      ],
      "text/plain": [
       "                Ratings\n",
       "UserId                 \n",
       "A5JLAU2ARJ0BO       520\n",
       "ADLVFFE4VBT8        501\n",
       "A3OXHLG6DIBRW8      498\n",
       "A6FIAB28IS79        431\n",
       "A680RUE1FDO8B       406\n",
       "A1ODOGXEYECQQ8      380\n",
       "A36K2N527TXXJN      314\n",
       "A2AY4YUOX2N1BQ      311\n",
       "AWPODHOB4GFWL       308\n",
       "ARBKYIVNYWK3C       296"
      ]
     },
     "execution_count": 14,
     "metadata": {},
     "output_type": "execute_result"
    }
   ],
   "source": [
    "most_rated_users = pd.DataFrame(amazon_electronics_data_usr.groupby('UserId')['Ratings'].count())\n",
    "most_rated_user = most_rated_users.sort_values('Ratings', ascending=False)\n",
    "print('Top 10 Users who have done Max Purchases:')\n",
    "most_rated_user.head(10)"
   ]
  },
  {
   "cell_type": "code",
   "execution_count": 7,
   "metadata": {},
   "outputs": [
    {
     "name": "stdout",
     "output_type": "stream",
     "text": [
      "                       Size\n",
      "Product_list_Category      \n",
      "(25, 50]                275\n",
      "(50, 75]                 42\n",
      "(75, 100]                15\n",
      "(100, 125]                6\n",
      "(125, 150]                4\n",
      "(150, 175]                2\n",
      "(175, 200]                1\n",
      "(200, 225]                1\n"
     ]
    },
    {
     "data": {
      "image/png": "[encoded data removed]",
      "text/plain": [
       "<Figure size 432x288 with 1 Axes>"
      ]
     },
     "metadata": {
      "needs_background": "light"
     },
     "output_type": "display_data"
    }
   ],
   "source": [
    "#Product Analysis with User rated more than 50\n",
    "Product_list_new=pd.DataFrame(amazon_electronics_data_usr.groupby('ProductId').size(),columns=['Size'])\n",
    "Product_list_new=Product_list_new.reset_index()\n",
    "Product_list_new['Product_list_Category']=pd.cut(x=Product_list_new['Size'], bins=[25,50,75,100,125,150,175,200,225])\n",
    "a=pd.pivot_table(Product_list_new, index='Product_list_Category',values='Size', aggfunc='count')\n",
    "print(a)\n",
    "pd.pivot_table(Product_list_new, index='Product_list_Category',values='Size', aggfunc='count').plot(kind='bar')\n",
    "plt.show()"
   ]
  },
  {
   "cell_type": "code",
   "execution_count": 16,
   "metadata": {},
   "outputs": [
    {
     "data": {
      "image/png": "[encoded data removed]",
      "text/plain": [
       "<Figure size 360x360 with 1 Axes>"
      ]
     },
     "metadata": {
      "needs_background": "light"
     },
     "output_type": "display_data"
    },
    {
     "data": {
      "text/plain": [
       "5.0    68872\n",
       "4.0    31480\n",
       "3.0    11747\n",
       "2.0     5175\n",
       "1.0     4897\n",
       "Name: Ratings, dtype: int64"
      ]
     },
     "execution_count": 16,
     "metadata": {},
     "output_type": "execute_result"
    }
   ],
   "source": [
    "#Ratings with User rated more than 50\n",
    "ax=amazon_electronics_data_usr['Ratings'].value_counts().plot(kind='bar',figsize=(5,5))\n",
    "plt.show()\n",
    "amazon_electronics_data_usr['Ratings'].value_counts()"
   ]
  },
  {
   "cell_type": "code",
   "execution_count": 8,
   "metadata": {},
   "outputs": [
    {
     "name": "stdout",
     "output_type": "stream",
     "text": [
      "Total Number of Users who have rated 1.0 is 1112\n",
      "Total Number of Users who have rated 2.0 is 1219\n",
      "Total Number of Users who have rated 3.0 is 1416\n",
      "Total Number of Users who have rated 4.0 is 1445\n",
      "Total Number of Users who have rated 5.0 is 1466\n",
      "\n",
      "\n",
      "Total Number of Products who have rated 1.0 is 4285\n",
      "Total Number of Products who have rated 2.0 is 4258\n",
      "Total Number of Products who have rated 3.0 is 8166\n",
      "Total Number of Products who have rated 4.0 is 17178\n",
      "Total Number of Products who have rated 5.0 is 32049\n"
     ]
    }
   ],
   "source": [
    "#Ratings with User rated more than 50\n",
    "user_list_new_rating=pd.DataFrame(amazon_electronics_data_usr.groupby(['UserId','Ratings']).size(),columns=['Count'])\n",
    "user_list_new_rating=user_list_new_rating.reset_index()\n",
    "uc=pd.pivot_table(user_list_new_rating,index=['UserId'],columns=['Ratings'],values='Count',aggfunc=max)\n",
    "for i in [1.0,2.0,3.0,4.0,5.0]:\n",
    "    print('Total Number of Users who have rated {} is {}'.format(i,uc[i].count()))\n",
    "print('\\n')\n",
    "Product_list_new_rating=pd.DataFrame(amazon_electronics_data_usr.groupby(['ProductId','Ratings']).size(),columns=['Count'])\n",
    "Product_list_new_rating=Product_list_new_rating.reset_index()\n",
    "pc=pd.pivot_table(Product_list_new_rating,index=['ProductId'],columns=['Ratings'],values='Count',aggfunc=max)\n",
    "for i in [1.0,2.0,3.0,4.0,5.0]:\n",
    "    print('Total Number of Products who have rated {} is {}'.format(i,pc[i].count()))"
   ]
  },
  {
   "cell_type": "markdown",
   "metadata": {},
   "source": [
    "Post delete there are 122171 records in the dataset.Among those 1466 unique users and 47155 unique products in the dataset.\n",
    "There 1186 Users who have bought and rated products more than 50 times and 280 users have rated more than 50 100 times.\n",
    "There are 46809 Products which has been rated by the Users less than 25 times and 346 products which has been rated more than 25 times.\n",
    "71034 Products has been rated  5 , 32295 Products rated as 4, 12060 Products rated as 3, 5367 Products rated as 2 and 5115 Products rated as 1\n",
    "\n",
    "There are 1466 Users who have rated 32049 Products as 5, 1445 Users rated 17178 Products as 4, 1416 Users rated 8166 Products as 3, 1219 Users rated 4258 products as 2 and 1112 Users rated 4285 products as 1."
   ]
  },
  {
   "cell_type": "markdown",
   "metadata": {},
   "source": [
    "# Popularity Recommender model (Non Personalized) with user more than 50"
   ]
  },
  {
   "cell_type": "code",
   "execution_count": 9,
   "metadata": {},
   "outputs": [
    {
     "name": "stdout",
     "output_type": "stream",
     "text": [
      "Number of Rows in Train dataset is: 85519\n",
      "Number of Columns in Train dataset is: 3\n",
      "\n",
      "Number of Rows in Train dataset is: 36652\n",
      "Number of Columns in Train dataset is: 3\n",
      "\n",
      "    ProductId  Score\n",
      "0  0594481813      1\n",
      "1  0970407998      1\n",
      "2  0972683275      2\n",
      "3  1400501466      2\n",
      "4  1400501520      1\n"
     ]
    },
    {
     "data": {
      "text/html": [
       "<div>\n",
       "<style scoped>\n",
       "    .dataframe tbody tr th:only-of-type {\n",
       "        vertical-align: middle;\n",
       "    }\n",
       "\n",
       "    .dataframe tbody tr th {\n",
       "        vertical-align: top;\n",
       "    }\n",
       "\n",
       "    .dataframe thead th {\n",
       "        text-align: right;\n",
       "    }\n",
       "</style>\n",
       "<table border=\"1\" class=\"dataframe\">\n",
       "  <thead>\n",
       "    <tr style=\"text-align: right;\">\n",
       "      <th></th>\n",
       "      <th>ProductId</th>\n",
       "      <th>Score</th>\n",
       "      <th>Rank</th>\n",
       "    </tr>\n",
       "  </thead>\n",
       "  <tbody>\n",
       "    <tr>\n",
       "      <td>30047</td>\n",
       "      <td>B0088CJT4U</td>\n",
       "      <td>143</td>\n",
       "      <td>1.0</td>\n",
       "    </tr>\n",
       "    <tr>\n",
       "      <td>19056</td>\n",
       "      <td>B003ES5ZUU</td>\n",
       "      <td>127</td>\n",
       "      <td>2.0</td>\n",
       "    </tr>\n",
       "    <tr>\n",
       "      <td>8392</td>\n",
       "      <td>B000N99BBC</td>\n",
       "      <td>120</td>\n",
       "      <td>3.0</td>\n",
       "    </tr>\n",
       "    <tr>\n",
       "      <td>29473</td>\n",
       "      <td>B007WTAJTO</td>\n",
       "      <td>112</td>\n",
       "      <td>4.0</td>\n",
       "    </tr>\n",
       "    <tr>\n",
       "      <td>29761</td>\n",
       "      <td>B00829TIEK</td>\n",
       "      <td>110</td>\n",
       "      <td>5.0</td>\n",
       "    </tr>\n",
       "  </tbody>\n",
       "</table>\n",
       "</div>"
      ],
      "text/plain": [
       "        ProductId  Score  Rank\n",
       "30047  B0088CJT4U    143   1.0\n",
       "19056  B003ES5ZUU    127   2.0\n",
       "8392   B000N99BBC    120   3.0\n",
       "29473  B007WTAJTO    112   4.0\n",
       "29761  B00829TIEK    110   5.0"
      ]
     },
     "execution_count": 9,
     "metadata": {},
     "output_type": "execute_result"
    }
   ],
   "source": [
    "#Split the data randomnly into train and test datasets into 70:30 ratio\n",
    "train_data_usr, test_data_usr = ts(amazon_electronics_data_usr, test_size = 0.3, random_state=1)\n",
    "r,c=train_data_usr.shape\n",
    "print ('Number of Rows in Train dataset is: {}'.format(r))\n",
    "print ('Number of Columns in Train dataset is: {}'.format(c))\n",
    "r,c=test_data_usr.shape\n",
    "print ('\\nNumber of Rows in Train dataset is: {}'.format(r))\n",
    "print ('Number of Columns in Train dataset is: {}\\n'.format(c))\n",
    "\n",
    "train_data_grouped_usr = train_data_usr.groupby('ProductId').agg({'UserId': 'count'}).reset_index()\n",
    "train_data_grouped_usr.rename(columns = {'UserId': 'Score'},inplace=True)\n",
    "print(train_data_grouped_usr.head(5))\n",
    "#Sort the products on recommendation score \n",
    "train_data_sort_usr = train_data_grouped_usr.sort_values(['Score', 'ProductId'], ascending = [0,1]) \n",
    "      \n",
    "#Generate a recommendation rank based upon score \n",
    "train_data_sort_usr['Rank'] = train_data_sort_usr['Score'].rank(ascending=0, method='first') \n",
    "          \n",
    "#Get the top 5 recommendations \n",
    "popularity_recommendations_usr = train_data_sort_usr.head(5) \n",
    "popularity_recommendations_usr "
   ]
  },
  {
   "cell_type": "code",
   "execution_count": 10,
   "metadata": {},
   "outputs": [],
   "source": [
    "# Use popularity based recommender model to make predictions\n",
    "def recommend_usr(user_id):     \n",
    "    user_recommendations_usr = popularity_recommendations_usr \n",
    "          \n",
    "    #Add user_id column for which the recommendations are being generated \n",
    "    user_recommendations_usr['UserId'] = user_id \n",
    "      \n",
    "    #Bring user_id column to the front \n",
    "    cols = user_recommendations_usr.columns.tolist() \n",
    "    cols = cols[-1:] + cols[:-1] \n",
    "    user_recommendations_usr = pd.DataFrame(user_recommendations_usr[cols] ,columns=['UserId','ProductId','Score','Rank'])\n",
    "          \n",
    "    return user_recommendations_usr['ProductId']"
   ]
  },
  {
   "cell_type": "code",
   "execution_count": 11,
   "metadata": {},
   "outputs": [
    {
     "name": "stdout",
     "output_type": "stream",
     "text": [
      "\n",
      "Top 5 Recommendation for the User with user more than 50 A00000262KYZUE4J55XGL are: \n",
      " 30047    B0088CJT4U\n",
      "19056    B003ES5ZUU\n",
      "8392     B000N99BBC\n",
      "29473    B007WTAJTO\n",
      "29761    B00829TIEK\n",
      "Name: ProductId, dtype: object\n",
      "\n",
      "Top 5 Recommendation for the User with user more than 50 A00009182QVLSWIGHLS1B are: \n",
      " 30047    B0088CJT4U\n",
      "19056    B003ES5ZUU\n",
      "8392     B000N99BBC\n",
      "29473    B007WTAJTO\n",
      "29761    B00829TIEK\n",
      "Name: ProductId, dtype: object\n",
      "\n",
      "Top 5 Recommendation for the User with user more than 50 A00009661LC9LQPGKJ24G are: \n",
      " 30047    B0088CJT4U\n",
      "19056    B003ES5ZUU\n",
      "8392     B000N99BBC\n",
      "29473    B007WTAJTO\n",
      "29761    B00829TIEK\n",
      "Name: ProductId, dtype: object\n",
      "\n",
      "Top 5 Recommendation for the User with user more than 50 A00010809P09NUU6ZP6H are: \n",
      " 30047    B0088CJT4U\n",
      "19056    B003ES5ZUU\n",
      "8392     B000N99BBC\n",
      "29473    B007WTAJTO\n",
      "29761    B00829TIEK\n",
      "Name: ProductId, dtype: object\n",
      "\n",
      "Top 5 Recommendation for the User with user more than 50 A00014061C2IZNE0YEILY are: \n",
      " 30047    B0088CJT4U\n",
      "19056    B003ES5ZUU\n",
      "8392     B000N99BBC\n",
      "29473    B007WTAJTO\n",
      "29761    B00829TIEK\n",
      "Name: ProductId, dtype: object\n"
     ]
    }
   ],
   "source": [
    "ul=user_list[user_list['Size'].between(0,1)]['UserId'].head(5)\n",
    "for i in ul:\n",
    "    print('\\nTop 5 Recommendation for the User with user more than 50 {} are: \\n {}'.format(i,recommend_usr(i)))"
   ]
  },
  {
   "cell_type": "markdown",
   "metadata": {},
   "source": [
    "Since the Popularity Recommendor is non Personalized the recommendation is same for all 5 users.The prediction here is based on popularity and it recommondes the most popular products regardless the User has already purchased the product."
   ]
  },
  {
   "cell_type": "markdown",
   "metadata": {},
   "source": [
    "# User-User Collaborative Filtering model"
   ]
  },
  {
   "cell_type": "markdown",
   "metadata": {},
   "source": [
    "Finding the Best User-User Collaborative Model"
   ]
  },
  {
   "cell_type": "code",
   "execution_count": 21,
   "metadata": {},
   "outputs": [
    {
     "name": "stdout",
     "output_type": "stream",
     "text": [
      "Best Score with RMSE: 1.06091643262699\n",
      "Best Parameters for RMSE:{'k': 49, 'name': 'pearson_baseline', 'user_based': True, 'verbose': False}\n"
     ]
    }
   ],
   "source": [
    "#Find best user-user\n",
    "reader = Reader(rating_scale=(1, 5))\n",
    "surp_data_gs=Dataset.load_from_df(amazon_electronics_data_usr[['UserId','ProductId','Ratings']],reader)\n",
    "surp_data_gs\n",
    "m=['rmse','mae','mse']\n",
    "verbose=False\n",
    "param_grid ={'k':range(1,50),'name':['pearson_baseline','cosine','MSD','pearson'],\n",
    "             'user_based': [True],'verbose':[False]}\n",
    "RGSCV=GridSearchCV(KNNWithMeans , param_grid, measures=['rmse'], cv=5)\n",
    "RGSCV.fit(surp_data_gs)\n",
    "\n",
    "print('Best Score with RMSE: {}'.format(RGSCV.best_score['rmse']))\n",
    "print('Best Parameters for RMSE:{}'.format(RGSCV.best_params['rmse']))"
   ]
  },
  {
   "cell_type": "markdown",
   "metadata": {},
   "source": [
    "Transforming data to SURPRISE format"
   ]
  },
  {
   "cell_type": "code",
   "execution_count": 12,
   "metadata": {},
   "outputs": [],
   "source": [
    "reader = Reader(rating_scale=(1, 5))\n",
    "surp_data_usr=Dataset.load_from_df(amazon_electronics_data_usr[['UserId','ProductId','Ratings']],reader)\n",
    "trainset_usr,testset_usr =train_test_split(surp_data_usr, test_size=0.3,random_state=1)"
   ]
  },
  {
   "cell_type": "markdown",
   "metadata": {},
   "source": [
    "Best User User Collaborative Model"
   ]
  },
  {
   "cell_type": "code",
   "execution_count": 46,
   "metadata": {},
   "outputs": [
    {
     "name": "stdout",
     "output_type": "stream",
     "text": [
      "Evaluate of User-User Model with pearson_baseline\n",
      "RMSE Score for User-User Model: 1.0501383914689786\n",
      "FCP Score for User-User Model: 0.44277123859554424\n",
      "MAE Score for User-User Model: 0.774633806511324\n",
      "MSE Score for User-User Model: 1.1027906412370538\n"
     ]
    }
   ],
   "source": [
    "algo = KNNWithMeans(k=49, sim_options={'name': 'pearson_baseline', 'user_based': True},verbose=False)\n",
    "algo.fit(trainset_usr)\n",
    "test_pred_usr = algo.test(testset_usr)\n",
    "RMSE_USER_USER=accuracy.rmse(test_pred_usr, verbose=False)\n",
    "MAE_USER_USER=accuracy.mae(test_pred_usr, verbose=False)\n",
    "print('Evaluate of User-User Model with pearson_baseline'.format(i))\n",
    "print('RMSE Score for User-User Model: {}'.format(RMSE_USER_USER))\n",
    "print('FCP Score for User-User Model: {}'.format(accuracy.fcp(test_pred_usr, verbose=False)))\n",
    "print('MAE Score for User-User Model: {}'.format(MAE_USER_USER))\n",
    "print('MSE Score for User-User Model: {}'.format(accuracy.mse(test_pred_usr, verbose=False)))"
   ]
  },
  {
   "cell_type": "code",
   "execution_count": 14,
   "metadata": {},
   "outputs": [],
   "source": [
    "def get_Iu(uid):\n",
    "    \"\"\" return the number of items rated by given user\n",
    "    args: \n",
    "      uid: the id of the user\n",
    "    returns: \n",
    "      the number of items rated by the user\n",
    "    \"\"\"\n",
    "    try:\n",
    "        return len(trainset_usr.ur[trainset_usr.to_inner_uid(uid)])\n",
    "    except ValueError: # user was not part of the trainset\n",
    "        return 0\n",
    "    \n",
    "def get_Ui(iid):\n",
    "    \"\"\" return number of users that have rated given item\n",
    "    args:\n",
    "      iid: the raw id of the item\n",
    "    returns:\n",
    "      the number of users that have rated the item.\n",
    "    \"\"\"\n",
    "    try: \n",
    "        return len(trainset_usr.ir[trainset_usr.to_inner_iid(iid)])\n",
    "    except ValueError: # Item was not part of the trainset\n",
    "        return 0\n",
    "    \n",
    "df = pd.DataFrame(test_pred_usr, columns=['uid', 'iid', 'rui', 'est', 'details'])\n",
    "df['Iu'] = df.uid.apply(get_Iu)\n",
    "df['Ui'] = df.iid.apply(get_Ui)\n",
    "df['err'] = abs(df.est - df.rui)\n",
    "best_predictions = df.sort_values(by='err')[:10]\n",
    "worst_predictions = df.sort_values(by='err')[-10:]"
   ]
  },
  {
   "cell_type": "code",
   "execution_count": 15,
   "metadata": {},
   "outputs": [
    {
     "data": {
      "text/html": [
       "<div>\n",
       "<style scoped>\n",
       "    .dataframe tbody tr th:only-of-type {\n",
       "        vertical-align: middle;\n",
       "    }\n",
       "\n",
       "    .dataframe tbody tr th {\n",
       "        vertical-align: top;\n",
       "    }\n",
       "\n",
       "    .dataframe thead th {\n",
       "        text-align: right;\n",
       "    }\n",
       "</style>\n",
       "<table border=\"1\" class=\"dataframe\">\n",
       "  <thead>\n",
       "    <tr style=\"text-align: right;\">\n",
       "      <th></th>\n",
       "      <th>uid</th>\n",
       "      <th>iid</th>\n",
       "      <th>rui</th>\n",
       "      <th>est</th>\n",
       "      <th>details</th>\n",
       "      <th>Iu</th>\n",
       "      <th>Ui</th>\n",
       "      <th>err</th>\n",
       "    </tr>\n",
       "  </thead>\n",
       "  <tbody>\n",
       "    <tr>\n",
       "      <td>36651</td>\n",
       "      <td>A2D1LPEUCTNT8X</td>\n",
       "      <td>B0093AO7TS</td>\n",
       "      <td>5.0</td>\n",
       "      <td>5.0</td>\n",
       "      <td>{'actual_k': 1, 'was_impossible': False}</td>\n",
       "      <td>85</td>\n",
       "      <td>1</td>\n",
       "      <td>0.0</td>\n",
       "    </tr>\n",
       "    <tr>\n",
       "      <td>17131</td>\n",
       "      <td>A2M14CFAMF8J7I</td>\n",
       "      <td>B0034CL2ZI</td>\n",
       "      <td>5.0</td>\n",
       "      <td>5.0</td>\n",
       "      <td>{'actual_k': 20, 'was_impossible': False}</td>\n",
       "      <td>39</td>\n",
       "      <td>72</td>\n",
       "      <td>0.0</td>\n",
       "    </tr>\n",
       "    <tr>\n",
       "      <td>17104</td>\n",
       "      <td>A1TQZUSOU22E9M</td>\n",
       "      <td>B00AM4A87O</td>\n",
       "      <td>5.0</td>\n",
       "      <td>5.0</td>\n",
       "      <td>{'actual_k': 2, 'was_impossible': False}</td>\n",
       "      <td>89</td>\n",
       "      <td>8</td>\n",
       "      <td>0.0</td>\n",
       "    </tr>\n",
       "    <tr>\n",
       "      <td>17074</td>\n",
       "      <td>AW6FQE5QRF2LM</td>\n",
       "      <td>B004QJ9JLW</td>\n",
       "      <td>5.0</td>\n",
       "      <td>5.0</td>\n",
       "      <td>{'actual_k': 1, 'was_impossible': False}</td>\n",
       "      <td>33</td>\n",
       "      <td>5</td>\n",
       "      <td>0.0</td>\n",
       "    </tr>\n",
       "    <tr>\n",
       "      <td>17048</td>\n",
       "      <td>A2VAD79S4A06DD</td>\n",
       "      <td>B00CDIK908</td>\n",
       "      <td>5.0</td>\n",
       "      <td>5.0</td>\n",
       "      <td>{'actual_k': 1, 'was_impossible': False}</td>\n",
       "      <td>41</td>\n",
       "      <td>5</td>\n",
       "      <td>0.0</td>\n",
       "    </tr>\n",
       "    <tr>\n",
       "      <td>17003</td>\n",
       "      <td>A1MFVAHTT2BHM0</td>\n",
       "      <td>B008KVUAGU</td>\n",
       "      <td>4.0</td>\n",
       "      <td>4.0</td>\n",
       "      <td>{'actual_k': 0, 'was_impossible': False}</td>\n",
       "      <td>60</td>\n",
       "      <td>6</td>\n",
       "      <td>0.0</td>\n",
       "    </tr>\n",
       "    <tr>\n",
       "      <td>16970</td>\n",
       "      <td>AEJAGHLC675A7</td>\n",
       "      <td>B002OGMNT4</td>\n",
       "      <td>5.0</td>\n",
       "      <td>5.0</td>\n",
       "      <td>{'actual_k': 1, 'was_impossible': False}</td>\n",
       "      <td>166</td>\n",
       "      <td>5</td>\n",
       "      <td>0.0</td>\n",
       "    </tr>\n",
       "    <tr>\n",
       "      <td>17137</td>\n",
       "      <td>A12R3YGEHW7D8G</td>\n",
       "      <td>B00077KMXG</td>\n",
       "      <td>5.0</td>\n",
       "      <td>5.0</td>\n",
       "      <td>{'actual_k': 1, 'was_impossible': False}</td>\n",
       "      <td>56</td>\n",
       "      <td>1</td>\n",
       "      <td>0.0</td>\n",
       "    </tr>\n",
       "    <tr>\n",
       "      <td>16961</td>\n",
       "      <td>A1MEISNED4NP7U</td>\n",
       "      <td>B0054VNHSW</td>\n",
       "      <td>5.0</td>\n",
       "      <td>5.0</td>\n",
       "      <td>{'actual_k': 1, 'was_impossible': False}</td>\n",
       "      <td>45</td>\n",
       "      <td>1</td>\n",
       "      <td>0.0</td>\n",
       "    </tr>\n",
       "    <tr>\n",
       "      <td>16924</td>\n",
       "      <td>A3OA4DV4L81N1D</td>\n",
       "      <td>B00009UU2H</td>\n",
       "      <td>5.0</td>\n",
       "      <td>5.0</td>\n",
       "      <td>{'actual_k': 1, 'was_impossible': False}</td>\n",
       "      <td>145</td>\n",
       "      <td>1</td>\n",
       "      <td>0.0</td>\n",
       "    </tr>\n",
       "  </tbody>\n",
       "</table>\n",
       "</div>"
      ],
      "text/plain": [
       "                  uid         iid  rui  est  \\\n",
       "36651  A2D1LPEUCTNT8X  B0093AO7TS  5.0  5.0   \n",
       "17131  A2M14CFAMF8J7I  B0034CL2ZI  5.0  5.0   \n",
       "17104  A1TQZUSOU22E9M  B00AM4A87O  5.0  5.0   \n",
       "17074   AW6FQE5QRF2LM  B004QJ9JLW  5.0  5.0   \n",
       "17048  A2VAD79S4A06DD  B00CDIK908  5.0  5.0   \n",
       "17003  A1MFVAHTT2BHM0  B008KVUAGU  4.0  4.0   \n",
       "16970   AEJAGHLC675A7  B002OGMNT4  5.0  5.0   \n",
       "17137  A12R3YGEHW7D8G  B00077KMXG  5.0  5.0   \n",
       "16961  A1MEISNED4NP7U  B0054VNHSW  5.0  5.0   \n",
       "16924  A3OA4DV4L81N1D  B00009UU2H  5.0  5.0   \n",
       "\n",
       "                                         details   Iu  Ui  err  \n",
       "36651   {'actual_k': 1, 'was_impossible': False}   85   1  0.0  \n",
       "17131  {'actual_k': 20, 'was_impossible': False}   39  72  0.0  \n",
       "17104   {'actual_k': 2, 'was_impossible': False}   89   8  0.0  \n",
       "17074   {'actual_k': 1, 'was_impossible': False}   33   5  0.0  \n",
       "17048   {'actual_k': 1, 'was_impossible': False}   41   5  0.0  \n",
       "17003   {'actual_k': 0, 'was_impossible': False}   60   6  0.0  \n",
       "16970   {'actual_k': 1, 'was_impossible': False}  166   5  0.0  \n",
       "17137   {'actual_k': 1, 'was_impossible': False}   56   1  0.0  \n",
       "16961   {'actual_k': 1, 'was_impossible': False}   45   1  0.0  \n",
       "16924   {'actual_k': 1, 'was_impossible': False}  145   1  0.0  "
      ]
     },
     "execution_count": 15,
     "metadata": {},
     "output_type": "execute_result"
    }
   ],
   "source": [
    "best_predictions"
   ]
  },
  {
   "cell_type": "code",
   "execution_count": 16,
   "metadata": {},
   "outputs": [
    {
     "data": {
      "text/html": [
       "<div>\n",
       "<style scoped>\n",
       "    .dataframe tbody tr th:only-of-type {\n",
       "        vertical-align: middle;\n",
       "    }\n",
       "\n",
       "    .dataframe tbody tr th {\n",
       "        vertical-align: top;\n",
       "    }\n",
       "\n",
       "    .dataframe thead th {\n",
       "        text-align: right;\n",
       "    }\n",
       "</style>\n",
       "<table border=\"1\" class=\"dataframe\">\n",
       "  <thead>\n",
       "    <tr style=\"text-align: right;\">\n",
       "      <th></th>\n",
       "      <th>uid</th>\n",
       "      <th>iid</th>\n",
       "      <th>rui</th>\n",
       "      <th>est</th>\n",
       "      <th>details</th>\n",
       "      <th>Iu</th>\n",
       "      <th>Ui</th>\n",
       "      <th>err</th>\n",
       "    </tr>\n",
       "  </thead>\n",
       "  <tbody>\n",
       "    <tr>\n",
       "      <td>1803</td>\n",
       "      <td>A1KKE6VX8VPWZK</td>\n",
       "      <td>B000U62N1S</td>\n",
       "      <td>1.0</td>\n",
       "      <td>5.0</td>\n",
       "      <td>{'actual_k': 1, 'was_impossible': False}</td>\n",
       "      <td>68</td>\n",
       "      <td>5</td>\n",
       "      <td>4.0</td>\n",
       "    </tr>\n",
       "    <tr>\n",
       "      <td>34014</td>\n",
       "      <td>A250AXLRBVYKB4</td>\n",
       "      <td>B000I1X6PM</td>\n",
       "      <td>5.0</td>\n",
       "      <td>1.0</td>\n",
       "      <td>{'actual_k': 1, 'was_impossible': False}</td>\n",
       "      <td>151</td>\n",
       "      <td>4</td>\n",
       "      <td>4.0</td>\n",
       "    </tr>\n",
       "    <tr>\n",
       "      <td>32830</td>\n",
       "      <td>A9ELHLPXF7JKD</td>\n",
       "      <td>B002MAPRYU</td>\n",
       "      <td>1.0</td>\n",
       "      <td>5.0</td>\n",
       "      <td>{'actual_k': 2, 'was_impossible': False}</td>\n",
       "      <td>48</td>\n",
       "      <td>24</td>\n",
       "      <td>4.0</td>\n",
       "    </tr>\n",
       "    <tr>\n",
       "      <td>3276</td>\n",
       "      <td>A34CKIMZ969UW7</td>\n",
       "      <td>B00834SJSK</td>\n",
       "      <td>5.0</td>\n",
       "      <td>1.0</td>\n",
       "      <td>{'actual_k': 1, 'was_impossible': False}</td>\n",
       "      <td>35</td>\n",
       "      <td>70</td>\n",
       "      <td>4.0</td>\n",
       "    </tr>\n",
       "    <tr>\n",
       "      <td>31344</td>\n",
       "      <td>A2HRHF83I3NDGT</td>\n",
       "      <td>B002HGFKR8</td>\n",
       "      <td>1.0</td>\n",
       "      <td>5.0</td>\n",
       "      <td>{'actual_k': 1, 'was_impossible': False}</td>\n",
       "      <td>79</td>\n",
       "      <td>13</td>\n",
       "      <td>4.0</td>\n",
       "    </tr>\n",
       "    <tr>\n",
       "      <td>20324</td>\n",
       "      <td>A11FX8HL2ANK6T</td>\n",
       "      <td>B0041LYY6K</td>\n",
       "      <td>5.0</td>\n",
       "      <td>1.0</td>\n",
       "      <td>{'actual_k': 1, 'was_impossible': False}</td>\n",
       "      <td>47</td>\n",
       "      <td>6</td>\n",
       "      <td>4.0</td>\n",
       "    </tr>\n",
       "    <tr>\n",
       "      <td>9331</td>\n",
       "      <td>A1BJOHHLG0D965</td>\n",
       "      <td>B003VY4M42</td>\n",
       "      <td>1.0</td>\n",
       "      <td>5.0</td>\n",
       "      <td>{'actual_k': 1, 'was_impossible': False}</td>\n",
       "      <td>52</td>\n",
       "      <td>1</td>\n",
       "      <td>4.0</td>\n",
       "    </tr>\n",
       "    <tr>\n",
       "      <td>7843</td>\n",
       "      <td>A1Z7U9K6X3FEOU</td>\n",
       "      <td>B002WP2QGM</td>\n",
       "      <td>5.0</td>\n",
       "      <td>1.0</td>\n",
       "      <td>{'actual_k': 1, 'was_impossible': False}</td>\n",
       "      <td>45</td>\n",
       "      <td>5</td>\n",
       "      <td>4.0</td>\n",
       "    </tr>\n",
       "    <tr>\n",
       "      <td>22672</td>\n",
       "      <td>A1GW7V6S6XSXX3</td>\n",
       "      <td>B001FW9QGQ</td>\n",
       "      <td>5.0</td>\n",
       "      <td>1.0</td>\n",
       "      <td>{'actual_k': 1, 'was_impossible': False}</td>\n",
       "      <td>52</td>\n",
       "      <td>5</td>\n",
       "      <td>4.0</td>\n",
       "    </tr>\n",
       "    <tr>\n",
       "      <td>6498</td>\n",
       "      <td>AGVWTYW0ULXHT</td>\n",
       "      <td>B001SJVU6K</td>\n",
       "      <td>5.0</td>\n",
       "      <td>1.0</td>\n",
       "      <td>{'actual_k': 3, 'was_impossible': False}</td>\n",
       "      <td>167</td>\n",
       "      <td>7</td>\n",
       "      <td>4.0</td>\n",
       "    </tr>\n",
       "  </tbody>\n",
       "</table>\n",
       "</div>"
      ],
      "text/plain": [
       "                  uid         iid  rui  est  \\\n",
       "1803   A1KKE6VX8VPWZK  B000U62N1S  1.0  5.0   \n",
       "34014  A250AXLRBVYKB4  B000I1X6PM  5.0  1.0   \n",
       "32830   A9ELHLPXF7JKD  B002MAPRYU  1.0  5.0   \n",
       "3276   A34CKIMZ969UW7  B00834SJSK  5.0  1.0   \n",
       "31344  A2HRHF83I3NDGT  B002HGFKR8  1.0  5.0   \n",
       "20324  A11FX8HL2ANK6T  B0041LYY6K  5.0  1.0   \n",
       "9331   A1BJOHHLG0D965  B003VY4M42  1.0  5.0   \n",
       "7843   A1Z7U9K6X3FEOU  B002WP2QGM  5.0  1.0   \n",
       "22672  A1GW7V6S6XSXX3  B001FW9QGQ  5.0  1.0   \n",
       "6498    AGVWTYW0ULXHT  B001SJVU6K  5.0  1.0   \n",
       "\n",
       "                                        details   Iu  Ui  err  \n",
       "1803   {'actual_k': 1, 'was_impossible': False}   68   5  4.0  \n",
       "34014  {'actual_k': 1, 'was_impossible': False}  151   4  4.0  \n",
       "32830  {'actual_k': 2, 'was_impossible': False}   48  24  4.0  \n",
       "3276   {'actual_k': 1, 'was_impossible': False}   35  70  4.0  \n",
       "31344  {'actual_k': 1, 'was_impossible': False}   79  13  4.0  \n",
       "20324  {'actual_k': 1, 'was_impossible': False}   47   6  4.0  \n",
       "9331   {'actual_k': 1, 'was_impossible': False}   52   1  4.0  \n",
       "7843   {'actual_k': 1, 'was_impossible': False}   45   5  4.0  \n",
       "22672  {'actual_k': 1, 'was_impossible': False}   52   5  4.0  \n",
       "6498   {'actual_k': 3, 'was_impossible': False}  167   7  4.0  "
      ]
     },
     "execution_count": 16,
     "metadata": {},
     "output_type": "execute_result"
    }
   ],
   "source": [
    "worst_predictions"
   ]
  },
  {
   "cell_type": "markdown",
   "metadata": {},
   "source": [
    "# Item- Item Based"
   ]
  },
  {
   "cell_type": "code",
   "execution_count": 17,
   "metadata": {},
   "outputs": [
    {
     "name": "stdout",
     "output_type": "stream",
     "text": [
      "\n",
      "Head of new dataset created by Users who rated more than 50 times\n",
      "\n",
      "             UserId   ProductId  Ratings\n",
      "118   AT09WGFUM934H  0594481813      3.0\n",
      "177  A32HSNCNPRUMTR  0970407998      1.0\n",
      "178  A17HMM1M7T9PJ1  0970407998      4.0\n",
      "492  A3CLWR1UUZT6TG  0972683275      5.0\n",
      "631  A3TAS1AG6FMBQW  0972683275      5.0\n",
      "\n",
      "Number of Rows in dataset: 50000\n",
      "Number of Columns in dataset: 3\n",
      "\n",
      "Unique Value count in the column UserId is 1463\n",
      "Unique Value count in the column ProductId is 22081\n",
      "Unique Value count in the column Ratings is 5\n"
     ]
    }
   ],
   "source": [
    "#Subset of data to perform SVD due to memory issue.\n",
    "amazon_electronics_data_item=amazon_electronics_data_usr.head(50000)\n",
    "r,c=amazon_electronics_data_item.shape#Shape of the Dateset\n",
    "print('\\nHead of new dataset created by Users who rated more than 50 times\\n')\n",
    "print(amazon_electronics_data_item.head())\n",
    "print ('\\nNumber of Rows in dataset: {}'.format(r))\n",
    "print ('Number of Columns in dataset: {}\\n'.format(c))\n",
    "for i in amazon_electronics_data_item.columns.tolist():\n",
    "    print('Unique Value count in the column {} is {}'.format(i,amazon_electronics_data_item[i].nunique()))"
   ]
  },
  {
   "cell_type": "code",
   "execution_count": 27,
   "metadata": {},
   "outputs": [
    {
     "name": "stdout",
     "output_type": "stream",
     "text": [
      "Best Score with RMSE for Item-Item: 1.1285402737326662\n",
      "Best Parameters for RMSE Item-Item:{'k': 48, 'name': 'pearson_baseline', 'user_based': False, 'verbose': False}\n"
     ]
    }
   ],
   "source": [
    "#Find Best Item-Item\n",
    "amazon_electronics_data_item=amazon_electronics_data_usr.head(50000)\n",
    "reader = Reader(rating_scale=(1, 5))\n",
    "surp_data_gs=Dataset.load_from_df(amazon_electronics_data_item[['UserId','ProductId','Ratings']],reader)\n",
    "surp_data_gs\n",
    "m=['rmse','mae','mse']\n",
    "verbose=False\n",
    "param_grid ={'k':range(1,50),'name':['pearson_baseline','cosine','MSD','pearson'],\n",
    "             'user_based': [False],'verbose':[False]}\n",
    "RGSCV=GridSearchCV(KNNWithMeans , param_grid, measures=['rmse'], cv=5)\n",
    "RGSCV.fit(surp_data_gs)\n",
    "\n",
    "print('Best Score with RMSE for Item-Item: {}'.format(RGSCV.best_score['rmse']))\n",
    "print('Best Parameters for RMSE Item-Item:{}'.format(RGSCV.best_params['rmse']))"
   ]
  },
  {
   "cell_type": "code",
   "execution_count": 47,
   "metadata": {},
   "outputs": [
    {
     "name": "stdout",
     "output_type": "stream",
     "text": [
      "Evaluate of Item - Item Model with pearson_baseline \n",
      "RMSE Score for Item-Item Model: 1.1821732889193572\n",
      "FCP Score for Item-Item Model: 0.41818704209165347\n",
      "MAE Score for Item-Item Model: 0.8531086118796806\n",
      "MSE Score for Item-Item Model: 1.3975336850344102\n"
     ]
    }
   ],
   "source": [
    "reader = Reader(rating_scale=(1, 5))\n",
    "surp_data_item=Dataset.load_from_df(amazon_electronics_data_item[['UserId','ProductId','Ratings']],reader)\n",
    "trainset_item,testset_item =train_test_split(surp_data_item, test_size=0.3,random_state=1)\n",
    "algo = KNNWithMeans(k=48, sim_options={'name': 'pearson_baseline', 'user_based': False},verbose=False)\n",
    "algo.fit(trainset_item)\n",
    "test_pred_item = algo.test(testset_item)\n",
    "RMSE_ITEM_ITEM=accuracy.rmse(test_pred_item, verbose=False)\n",
    "MAE_ITEM_ITEM=accuracy.mae(test_pred_item, verbose=False)\n",
    "print('Evaluate of Item - Item Model with pearson_baseline '.format(i))\n",
    "print('RMSE Score for Item-Item Model: {}'.format(RMSE_ITEM_ITEM))\n",
    "print('FCP Score for Item-Item Model: {}'.format(accuracy.fcp(test_pred_item, verbose=False)))\n",
    "print('MAE Score for Item-Item Model: {}'.format(MAE_ITEM_ITEM))\n",
    "print('MSE Score for Item-Item Model: {}'.format(accuracy.mse(test_pred_item, verbose=False)))\n"
   ]
  },
  {
   "cell_type": "code",
   "execution_count": 21,
   "metadata": {},
   "outputs": [],
   "source": [
    "def get_Iu(uid):\n",
    "    \"\"\" return the number of items rated by given user\n",
    "    args: \n",
    "      uid: the id of the user\n",
    "    returns: \n",
    "      the number of items rated by the user\n",
    "    \"\"\"\n",
    "    try:\n",
    "        return len(trainset_item.ur[trainset_item.to_inner_uid(uid)])\n",
    "    except ValueError: # user was not part of the trainset\n",
    "        return 0\n",
    "    \n",
    "def get_Ui(iid):\n",
    "    \"\"\" return number of users that have rated given item\n",
    "    args:\n",
    "      iid: the raw id of the item\n",
    "    returns:\n",
    "      the number of users that have rated the item.\n",
    "    \"\"\"\n",
    "    try: \n",
    "        return len(trainset_item.ir[trainset_item.to_inner_iid(iid)])\n",
    "    except ValueError:\n",
    "        return 0\n",
    "    \n",
    "df = pd.DataFrame(test_pred_item, columns=['uid', 'iid', 'rui', 'est', 'details'])\n",
    "df['Iu'] = df.uid.apply(get_Iu)\n",
    "df['Ui'] = df.iid.apply(get_Ui)\n",
    "df['err'] = abs(df.est - df.rui)\n",
    "best_predictions_item = df.sort_values(by='err')[:10]\n",
    "worst_predictions_item = df.sort_values(by='err')[-10:]"
   ]
  },
  {
   "cell_type": "code",
   "execution_count": 22,
   "metadata": {},
   "outputs": [
    {
     "data": {
      "text/html": [
       "<div>\n",
       "<style scoped>\n",
       "    .dataframe tbody tr th:only-of-type {\n",
       "        vertical-align: middle;\n",
       "    }\n",
       "\n",
       "    .dataframe tbody tr th {\n",
       "        vertical-align: top;\n",
       "    }\n",
       "\n",
       "    .dataframe thead th {\n",
       "        text-align: right;\n",
       "    }\n",
       "</style>\n",
       "<table border=\"1\" class=\"dataframe\">\n",
       "  <thead>\n",
       "    <tr style=\"text-align: right;\">\n",
       "      <th></th>\n",
       "      <th>uid</th>\n",
       "      <th>iid</th>\n",
       "      <th>rui</th>\n",
       "      <th>est</th>\n",
       "      <th>details</th>\n",
       "      <th>Iu</th>\n",
       "      <th>Ui</th>\n",
       "      <th>err</th>\n",
       "    </tr>\n",
       "  </thead>\n",
       "  <tbody>\n",
       "    <tr>\n",
       "      <td>1163</td>\n",
       "      <td>A1VQHH85U7PX0</td>\n",
       "      <td>B00009R6UU</td>\n",
       "      <td>5.0</td>\n",
       "      <td>5.0</td>\n",
       "      <td>{'actual_k': 0, 'was_impossible': False}</td>\n",
       "      <td>19</td>\n",
       "      <td>1</td>\n",
       "      <td>0.0</td>\n",
       "    </tr>\n",
       "    <tr>\n",
       "      <td>512</td>\n",
       "      <td>A4GGT6O0GQNV2</td>\n",
       "      <td>B0002GX0ZE</td>\n",
       "      <td>5.0</td>\n",
       "      <td>5.0</td>\n",
       "      <td>{'actual_k': 0, 'was_impossible': False}</td>\n",
       "      <td>1</td>\n",
       "      <td>2</td>\n",
       "      <td>0.0</td>\n",
       "    </tr>\n",
       "    <tr>\n",
       "      <td>2464</td>\n",
       "      <td>A2SYAQXJGRY3XE</td>\n",
       "      <td>B000144I2Q</td>\n",
       "      <td>5.0</td>\n",
       "      <td>5.0</td>\n",
       "      <td>{'actual_k': 0, 'was_impossible': False}</td>\n",
       "      <td>6</td>\n",
       "      <td>3</td>\n",
       "      <td>0.0</td>\n",
       "    </tr>\n",
       "    <tr>\n",
       "      <td>2563</td>\n",
       "      <td>A16SRDVPBXN69C</td>\n",
       "      <td>B00008IOEJ</td>\n",
       "      <td>4.0</td>\n",
       "      <td>4.0</td>\n",
       "      <td>{'actual_k': 0, 'was_impossible': False}</td>\n",
       "      <td>6</td>\n",
       "      <td>1</td>\n",
       "      <td>0.0</td>\n",
       "    </tr>\n",
       "    <tr>\n",
       "      <td>1445</td>\n",
       "      <td>A3QDY9I0CNMD2W</td>\n",
       "      <td>B000096B01</td>\n",
       "      <td>5.0</td>\n",
       "      <td>5.0</td>\n",
       "      <td>{'actual_k': 0, 'was_impossible': False}</td>\n",
       "      <td>5</td>\n",
       "      <td>2</td>\n",
       "      <td>0.0</td>\n",
       "    </tr>\n",
       "    <tr>\n",
       "      <td>276</td>\n",
       "      <td>A110VKXAVLAYKY</td>\n",
       "      <td>B0002E3WIQ</td>\n",
       "      <td>5.0</td>\n",
       "      <td>5.0</td>\n",
       "      <td>{'actual_k': 0, 'was_impossible': False}</td>\n",
       "      <td>4</td>\n",
       "      <td>1</td>\n",
       "      <td>0.0</td>\n",
       "    </tr>\n",
       "    <tr>\n",
       "      <td>2706</td>\n",
       "      <td>A1NMM0RDRF6R84</td>\n",
       "      <td>B0000665V6</td>\n",
       "      <td>5.0</td>\n",
       "      <td>5.0</td>\n",
       "      <td>{'actual_k': 0, 'was_impossible': False}</td>\n",
       "      <td>1</td>\n",
       "      <td>1</td>\n",
       "      <td>0.0</td>\n",
       "    </tr>\n",
       "    <tr>\n",
       "      <td>2865</td>\n",
       "      <td>A1H55L0BLPCWYF</td>\n",
       "      <td>B0002JY712</td>\n",
       "      <td>5.0</td>\n",
       "      <td>5.0</td>\n",
       "      <td>{'actual_k': 0, 'was_impossible': False}</td>\n",
       "      <td>2</td>\n",
       "      <td>2</td>\n",
       "      <td>0.0</td>\n",
       "    </tr>\n",
       "    <tr>\n",
       "      <td>2259</td>\n",
       "      <td>AFXTKAO0CB354</td>\n",
       "      <td>B0000CG4DI</td>\n",
       "      <td>4.0</td>\n",
       "      <td>4.0</td>\n",
       "      <td>{'actual_k': 0, 'was_impossible': False}</td>\n",
       "      <td>12</td>\n",
       "      <td>2</td>\n",
       "      <td>0.0</td>\n",
       "    </tr>\n",
       "    <tr>\n",
       "      <td>1370</td>\n",
       "      <td>AZOK5STV85FBJ</td>\n",
       "      <td>B00003006E</td>\n",
       "      <td>5.0</td>\n",
       "      <td>5.0</td>\n",
       "      <td>{'actual_k': 0, 'was_impossible': False}</td>\n",
       "      <td>3</td>\n",
       "      <td>3</td>\n",
       "      <td>0.0</td>\n",
       "    </tr>\n",
       "  </tbody>\n",
       "</table>\n",
       "</div>"
      ],
      "text/plain": [
       "                 uid         iid  rui  est  \\\n",
       "1163   A1VQHH85U7PX0  B00009R6UU  5.0  5.0   \n",
       "512    A4GGT6O0GQNV2  B0002GX0ZE  5.0  5.0   \n",
       "2464  A2SYAQXJGRY3XE  B000144I2Q  5.0  5.0   \n",
       "2563  A16SRDVPBXN69C  B00008IOEJ  4.0  4.0   \n",
       "1445  A3QDY9I0CNMD2W  B000096B01  5.0  5.0   \n",
       "276   A110VKXAVLAYKY  B0002E3WIQ  5.0  5.0   \n",
       "2706  A1NMM0RDRF6R84  B0000665V6  5.0  5.0   \n",
       "2865  A1H55L0BLPCWYF  B0002JY712  5.0  5.0   \n",
       "2259   AFXTKAO0CB354  B0000CG4DI  4.0  4.0   \n",
       "1370   AZOK5STV85FBJ  B00003006E  5.0  5.0   \n",
       "\n",
       "                                       details  Iu  Ui  err  \n",
       "1163  {'actual_k': 0, 'was_impossible': False}  19   1  0.0  \n",
       "512   {'actual_k': 0, 'was_impossible': False}   1   2  0.0  \n",
       "2464  {'actual_k': 0, 'was_impossible': False}   6   3  0.0  \n",
       "2563  {'actual_k': 0, 'was_impossible': False}   6   1  0.0  \n",
       "1445  {'actual_k': 0, 'was_impossible': False}   5   2  0.0  \n",
       "276   {'actual_k': 0, 'was_impossible': False}   4   1  0.0  \n",
       "2706  {'actual_k': 0, 'was_impossible': False}   1   1  0.0  \n",
       "2865  {'actual_k': 0, 'was_impossible': False}   2   2  0.0  \n",
       "2259  {'actual_k': 0, 'was_impossible': False}  12   2  0.0  \n",
       "1370  {'actual_k': 0, 'was_impossible': False}   3   3  0.0  "
      ]
     },
     "execution_count": 22,
     "metadata": {},
     "output_type": "execute_result"
    }
   ],
   "source": [
    "best_predictions_item"
   ]
  },
  {
   "cell_type": "code",
   "execution_count": 23,
   "metadata": {},
   "outputs": [
    {
     "data": {
      "text/html": [
       "<div>\n",
       "<style scoped>\n",
       "    .dataframe tbody tr th:only-of-type {\n",
       "        vertical-align: middle;\n",
       "    }\n",
       "\n",
       "    .dataframe tbody tr th {\n",
       "        vertical-align: top;\n",
       "    }\n",
       "\n",
       "    .dataframe thead th {\n",
       "        text-align: right;\n",
       "    }\n",
       "</style>\n",
       "<table border=\"1\" class=\"dataframe\">\n",
       "  <thead>\n",
       "    <tr style=\"text-align: right;\">\n",
       "      <th></th>\n",
       "      <th>uid</th>\n",
       "      <th>iid</th>\n",
       "      <th>rui</th>\n",
       "      <th>est</th>\n",
       "      <th>details</th>\n",
       "      <th>Iu</th>\n",
       "      <th>Ui</th>\n",
       "      <th>err</th>\n",
       "    </tr>\n",
       "  </thead>\n",
       "  <tbody>\n",
       "    <tr>\n",
       "      <td>2698</td>\n",
       "      <td>A1F0KPA232MTYC</td>\n",
       "      <td>B000234498</td>\n",
       "      <td>1.0</td>\n",
       "      <td>5.0</td>\n",
       "      <td>{'actual_k': 0, 'was_impossible': False}</td>\n",
       "      <td>4</td>\n",
       "      <td>1</td>\n",
       "      <td>4.0</td>\n",
       "    </tr>\n",
       "    <tr>\n",
       "      <td>397</td>\n",
       "      <td>AT6CZDCP4TRGA</td>\n",
       "      <td>B00006J054</td>\n",
       "      <td>1.0</td>\n",
       "      <td>5.0</td>\n",
       "      <td>{'actual_k': 0, 'was_impossible': False}</td>\n",
       "      <td>63</td>\n",
       "      <td>1</td>\n",
       "      <td>4.0</td>\n",
       "    </tr>\n",
       "    <tr>\n",
       "      <td>2274</td>\n",
       "      <td>A18GJ9MYYO6GCQ</td>\n",
       "      <td>B00011G5FW</td>\n",
       "      <td>5.0</td>\n",
       "      <td>1.0</td>\n",
       "      <td>{'actual_k': 0, 'was_impossible': False}</td>\n",
       "      <td>2</td>\n",
       "      <td>1</td>\n",
       "      <td>4.0</td>\n",
       "    </tr>\n",
       "    <tr>\n",
       "      <td>2159</td>\n",
       "      <td>A3QU3O79AGNWCY</td>\n",
       "      <td>B0002HBOMO</td>\n",
       "      <td>1.0</td>\n",
       "      <td>5.0</td>\n",
       "      <td>{'actual_k': 0, 'was_impossible': False}</td>\n",
       "      <td>5</td>\n",
       "      <td>1</td>\n",
       "      <td>4.0</td>\n",
       "    </tr>\n",
       "    <tr>\n",
       "      <td>1053</td>\n",
       "      <td>A6FIAB28IS79</td>\n",
       "      <td>B00006IAAN</td>\n",
       "      <td>1.0</td>\n",
       "      <td>5.0</td>\n",
       "      <td>{'actual_k': 0, 'was_impossible': False}</td>\n",
       "      <td>57</td>\n",
       "      <td>2</td>\n",
       "      <td>4.0</td>\n",
       "    </tr>\n",
       "    <tr>\n",
       "      <td>78</td>\n",
       "      <td>AMKNPIDFLRFMP</td>\n",
       "      <td>B0001M4E72</td>\n",
       "      <td>1.0</td>\n",
       "      <td>5.0</td>\n",
       "      <td>{'actual_k': 0, 'was_impossible': False}</td>\n",
       "      <td>5</td>\n",
       "      <td>1</td>\n",
       "      <td>4.0</td>\n",
       "    </tr>\n",
       "    <tr>\n",
       "      <td>2891</td>\n",
       "      <td>A2YHXGPCTENZY3</td>\n",
       "      <td>B0000899ZB</td>\n",
       "      <td>1.0</td>\n",
       "      <td>5.0</td>\n",
       "      <td>{'actual_k': 0, 'was_impossible': False}</td>\n",
       "      <td>15</td>\n",
       "      <td>2</td>\n",
       "      <td>4.0</td>\n",
       "    </tr>\n",
       "    <tr>\n",
       "      <td>2218</td>\n",
       "      <td>A4WEZJOIZIV4U</td>\n",
       "      <td>B0000BYRIN</td>\n",
       "      <td>5.0</td>\n",
       "      <td>1.0</td>\n",
       "      <td>{'actual_k': 0, 'was_impossible': False}</td>\n",
       "      <td>18</td>\n",
       "      <td>1</td>\n",
       "      <td>4.0</td>\n",
       "    </tr>\n",
       "    <tr>\n",
       "      <td>1690</td>\n",
       "      <td>A7EJERNB7IK3Z</td>\n",
       "      <td>B00006DY6M</td>\n",
       "      <td>5.0</td>\n",
       "      <td>1.0</td>\n",
       "      <td>{'actual_k': 0, 'was_impossible': False}</td>\n",
       "      <td>14</td>\n",
       "      <td>1</td>\n",
       "      <td>4.0</td>\n",
       "    </tr>\n",
       "    <tr>\n",
       "      <td>2062</td>\n",
       "      <td>ALUNVOQRXOZIA</td>\n",
       "      <td>B00006G2OJ</td>\n",
       "      <td>1.0</td>\n",
       "      <td>5.0</td>\n",
       "      <td>{'actual_k': 0, 'was_impossible': False}</td>\n",
       "      <td>30</td>\n",
       "      <td>1</td>\n",
       "      <td>4.0</td>\n",
       "    </tr>\n",
       "  </tbody>\n",
       "</table>\n",
       "</div>"
      ],
      "text/plain": [
       "                 uid         iid  rui  est  \\\n",
       "2698  A1F0KPA232MTYC  B000234498  1.0  5.0   \n",
       "397    AT6CZDCP4TRGA  B00006J054  1.0  5.0   \n",
       "2274  A18GJ9MYYO6GCQ  B00011G5FW  5.0  1.0   \n",
       "2159  A3QU3O79AGNWCY  B0002HBOMO  1.0  5.0   \n",
       "1053    A6FIAB28IS79  B00006IAAN  1.0  5.0   \n",
       "78     AMKNPIDFLRFMP  B0001M4E72  1.0  5.0   \n",
       "2891  A2YHXGPCTENZY3  B0000899ZB  1.0  5.0   \n",
       "2218   A4WEZJOIZIV4U  B0000BYRIN  5.0  1.0   \n",
       "1690   A7EJERNB7IK3Z  B00006DY6M  5.0  1.0   \n",
       "2062   ALUNVOQRXOZIA  B00006G2OJ  1.0  5.0   \n",
       "\n",
       "                                       details  Iu  Ui  err  \n",
       "2698  {'actual_k': 0, 'was_impossible': False}   4   1  4.0  \n",
       "397   {'actual_k': 0, 'was_impossible': False}  63   1  4.0  \n",
       "2274  {'actual_k': 0, 'was_impossible': False}   2   1  4.0  \n",
       "2159  {'actual_k': 0, 'was_impossible': False}   5   1  4.0  \n",
       "1053  {'actual_k': 0, 'was_impossible': False}  57   2  4.0  \n",
       "78    {'actual_k': 0, 'was_impossible': False}   5   1  4.0  \n",
       "2891  {'actual_k': 0, 'was_impossible': False}  15   2  4.0  \n",
       "2218  {'actual_k': 0, 'was_impossible': False}  18   1  4.0  \n",
       "1690  {'actual_k': 0, 'was_impossible': False}  14   1  4.0  \n",
       "2062  {'actual_k': 0, 'was_impossible': False}  30   1  4.0  "
      ]
     },
     "execution_count": 23,
     "metadata": {},
     "output_type": "execute_result"
    }
   ],
   "source": [
    "worst_predictions_item"
   ]
  },
  {
   "cell_type": "markdown",
   "metadata": {},
   "source": [
    "# Calculate the density of the rating matrix"
   ]
  },
  {
   "cell_type": "code",
   "execution_count": 24,
   "metadata": {},
   "outputs": [
    {
     "name": "stdout",
     "output_type": "stream",
     "text": [
      "Shape of final_ratings_matrix:  (1466, 47155)\n",
      "given_num_of_ratings =  122171\n",
      "possible_num_of_ratings =  69129230\n",
      "density: 0.18%\n"
     ]
    }
   ],
   "source": [
    "#With User rated more than 50\n",
    "final_ratings_matrix_usr = amazon_electronics_data_usr.pivot(index = 'UserId', columns ='ProductId', values = 'Ratings').fillna(0)\n",
    "User_ID=final_ratings_matrix_usr.index\n",
    "Products_Id=final_ratings_matrix_usr.columns\n",
    "print('Shape of final_ratings_matrix: ', final_ratings_matrix_usr.shape)\n",
    "\n",
    "given_num_of_ratings = np.count_nonzero(final_ratings_matrix_usr)\n",
    "print('given_num_of_ratings = ', given_num_of_ratings)\n",
    "possible_num_of_ratings = final_ratings_matrix_usr.shape[0] * final_ratings_matrix_usr.shape[1]\n",
    "print('possible_num_of_ratings = ', possible_num_of_ratings)\n",
    "density = (given_num_of_ratings/possible_num_of_ratings)\n",
    "density *= 100\n",
    "print ('density: {:4.2f}%'.format(density))"
   ]
  },
  {
   "cell_type": "code",
   "execution_count": 25,
   "metadata": {},
   "outputs": [
    {
     "data": {
      "text/html": [
       "<div>\n",
       "<style scoped>\n",
       "    .dataframe tbody tr th:only-of-type {\n",
       "        vertical-align: middle;\n",
       "    }\n",
       "\n",
       "    .dataframe tbody tr th {\n",
       "        vertical-align: top;\n",
       "    }\n",
       "\n",
       "    .dataframe thead th {\n",
       "        text-align: right;\n",
       "    }\n",
       "</style>\n",
       "<table border=\"1\" class=\"dataframe\">\n",
       "  <thead>\n",
       "    <tr style=\"text-align: right;\">\n",
       "      <th></th>\n",
       "      <th>Ratings</th>\n",
       "      <th>rating_counts</th>\n",
       "    </tr>\n",
       "    <tr>\n",
       "      <th>UserId</th>\n",
       "      <th></th>\n",
       "      <th></th>\n",
       "    </tr>\n",
       "  </thead>\n",
       "  <tbody>\n",
       "    <tr>\n",
       "      <td>A15J9K7O10A3M6</td>\n",
       "      <td>4.238095</td>\n",
       "      <td>63</td>\n",
       "    </tr>\n",
       "    <tr>\n",
       "      <td>A15U64VGUV6RBF</td>\n",
       "      <td>4.873016</td>\n",
       "      <td>63</td>\n",
       "    </tr>\n",
       "    <tr>\n",
       "      <td>A1ASWDAEDTTY5I</td>\n",
       "      <td>4.063492</td>\n",
       "      <td>63</td>\n",
       "    </tr>\n",
       "    <tr>\n",
       "      <td>A1BC62X6HZJGZR</td>\n",
       "      <td>4.206349</td>\n",
       "      <td>63</td>\n",
       "    </tr>\n",
       "    <tr>\n",
       "      <td>A1CMWB7AWQUQH4</td>\n",
       "      <td>3.841270</td>\n",
       "      <td>63</td>\n",
       "    </tr>\n",
       "    <tr>\n",
       "      <td>A1TQBAHI3M4ZBQ</td>\n",
       "      <td>4.809524</td>\n",
       "      <td>63</td>\n",
       "    </tr>\n",
       "    <tr>\n",
       "      <td>A200RY2ELZL2Q3</td>\n",
       "      <td>3.793651</td>\n",
       "      <td>63</td>\n",
       "    </tr>\n",
       "    <tr>\n",
       "      <td>A23R3EOZ837242</td>\n",
       "      <td>4.079365</td>\n",
       "      <td>63</td>\n",
       "    </tr>\n",
       "    <tr>\n",
       "      <td>A27Y4OEC9MD9PA</td>\n",
       "      <td>4.952381</td>\n",
       "      <td>63</td>\n",
       "    </tr>\n",
       "    <tr>\n",
       "      <td>A28LUOEY0ECT9G</td>\n",
       "      <td>4.634921</td>\n",
       "      <td>63</td>\n",
       "    </tr>\n",
       "    <tr>\n",
       "      <td>A29GWIJL72GXXZ</td>\n",
       "      <td>3.777778</td>\n",
       "      <td>63</td>\n",
       "    </tr>\n",
       "    <tr>\n",
       "      <td>A2HV76MYH7UL3S</td>\n",
       "      <td>4.603175</td>\n",
       "      <td>63</td>\n",
       "    </tr>\n",
       "    <tr>\n",
       "      <td>A2LF16F0KX9L7P</td>\n",
       "      <td>4.476190</td>\n",
       "      <td>63</td>\n",
       "    </tr>\n",
       "    <tr>\n",
       "      <td>A2PB325LKXYDOL</td>\n",
       "      <td>5.000000</td>\n",
       "      <td>63</td>\n",
       "    </tr>\n",
       "    <tr>\n",
       "      <td>A2QI2JHSIQ3SN3</td>\n",
       "      <td>4.587302</td>\n",
       "      <td>63</td>\n",
       "    </tr>\n",
       "    <tr>\n",
       "      <td>A2UEB48LAWFUCW</td>\n",
       "      <td>3.984127</td>\n",
       "      <td>63</td>\n",
       "    </tr>\n",
       "    <tr>\n",
       "      <td>A30J7WQV0ZNRXG</td>\n",
       "      <td>4.190476</td>\n",
       "      <td>63</td>\n",
       "    </tr>\n",
       "    <tr>\n",
       "      <td>A33XMCG1UFDSY2</td>\n",
       "      <td>4.571429</td>\n",
       "      <td>63</td>\n",
       "    </tr>\n",
       "    <tr>\n",
       "      <td>A377LPVLLAI42D</td>\n",
       "      <td>3.682540</td>\n",
       "      <td>63</td>\n",
       "    </tr>\n",
       "    <tr>\n",
       "      <td>A3F7F7QKQP2FKT</td>\n",
       "      <td>4.619048</td>\n",
       "      <td>63</td>\n",
       "    </tr>\n",
       "    <tr>\n",
       "      <td>A3NVZTGPORNPRW</td>\n",
       "      <td>4.396825</td>\n",
       "      <td>63</td>\n",
       "    </tr>\n",
       "    <tr>\n",
       "      <td>A3QU3O79AGNWCY</td>\n",
       "      <td>4.301587</td>\n",
       "      <td>63</td>\n",
       "    </tr>\n",
       "    <tr>\n",
       "      <td>A3UW23DBF2KHWC</td>\n",
       "      <td>4.714286</td>\n",
       "      <td>63</td>\n",
       "    </tr>\n",
       "    <tr>\n",
       "      <td>A3VTOLNB5N6FVP</td>\n",
       "      <td>4.190476</td>\n",
       "      <td>63</td>\n",
       "    </tr>\n",
       "    <tr>\n",
       "      <td>A6TBR6L2D4XKC</td>\n",
       "      <td>4.095238</td>\n",
       "      <td>63</td>\n",
       "    </tr>\n",
       "    <tr>\n",
       "      <td>AEN44U6T9R93</td>\n",
       "      <td>4.253968</td>\n",
       "      <td>63</td>\n",
       "    </tr>\n",
       "    <tr>\n",
       "      <td>AG2YXYIQ8TLTA</td>\n",
       "      <td>4.126984</td>\n",
       "      <td>63</td>\n",
       "    </tr>\n",
       "    <tr>\n",
       "      <td>AGILRZOT49R0V</td>\n",
       "      <td>4.333333</td>\n",
       "      <td>63</td>\n",
       "    </tr>\n",
       "    <tr>\n",
       "      <td>AKSQNMIKOU01H</td>\n",
       "      <td>4.158730</td>\n",
       "      <td>63</td>\n",
       "    </tr>\n",
       "    <tr>\n",
       "      <td>AO09RWV40IX78</td>\n",
       "      <td>4.619048</td>\n",
       "      <td>63</td>\n",
       "    </tr>\n",
       "    <tr>\n",
       "      <td>AO2EURP2Y4JZM</td>\n",
       "      <td>3.968254</td>\n",
       "      <td>63</td>\n",
       "    </tr>\n",
       "    <tr>\n",
       "      <td>AQB4DH57MSZSC</td>\n",
       "      <td>4.555556</td>\n",
       "      <td>63</td>\n",
       "    </tr>\n",
       "    <tr>\n",
       "      <td>AR1T36GLLAFFX</td>\n",
       "      <td>4.365079</td>\n",
       "      <td>63</td>\n",
       "    </tr>\n",
       "    <tr>\n",
       "      <td>ATNOI7E8GTIVE</td>\n",
       "      <td>4.650794</td>\n",
       "      <td>63</td>\n",
       "    </tr>\n",
       "    <tr>\n",
       "      <td>AUUV3XDYB16X5</td>\n",
       "      <td>4.650794</td>\n",
       "      <td>63</td>\n",
       "    </tr>\n",
       "    <tr>\n",
       "      <td>AWJWCKB92RJX2</td>\n",
       "      <td>3.936508</td>\n",
       "      <td>63</td>\n",
       "    </tr>\n",
       "  </tbody>\n",
       "</table>\n",
       "</div>"
      ],
      "text/plain": [
       "                 Ratings  rating_counts\n",
       "UserId                                 \n",
       "A15J9K7O10A3M6  4.238095             63\n",
       "A15U64VGUV6RBF  4.873016             63\n",
       "A1ASWDAEDTTY5I  4.063492             63\n",
       "A1BC62X6HZJGZR  4.206349             63\n",
       "A1CMWB7AWQUQH4  3.841270             63\n",
       "A1TQBAHI3M4ZBQ  4.809524             63\n",
       "A200RY2ELZL2Q3  3.793651             63\n",
       "A23R3EOZ837242  4.079365             63\n",
       "A27Y4OEC9MD9PA  4.952381             63\n",
       "A28LUOEY0ECT9G  4.634921             63\n",
       "A29GWIJL72GXXZ  3.777778             63\n",
       "A2HV76MYH7UL3S  4.603175             63\n",
       "A2LF16F0KX9L7P  4.476190             63\n",
       "A2PB325LKXYDOL  5.000000             63\n",
       "A2QI2JHSIQ3SN3  4.587302             63\n",
       "A2UEB48LAWFUCW  3.984127             63\n",
       "A30J7WQV0ZNRXG  4.190476             63\n",
       "A33XMCG1UFDSY2  4.571429             63\n",
       "A377LPVLLAI42D  3.682540             63\n",
       "A3F7F7QKQP2FKT  4.619048             63\n",
       "A3NVZTGPORNPRW  4.396825             63\n",
       "A3QU3O79AGNWCY  4.301587             63\n",
       "A3UW23DBF2KHWC  4.714286             63\n",
       "A3VTOLNB5N6FVP  4.190476             63\n",
       "A6TBR6L2D4XKC   4.095238             63\n",
       "AEN44U6T9R93    4.253968             63\n",
       "AG2YXYIQ8TLTA   4.126984             63\n",
       "AGILRZOT49R0V   4.333333             63\n",
       "AKSQNMIKOU01H   4.158730             63\n",
       "AO09RWV40IX78   4.619048             63\n",
       "AO2EURP2Y4JZM   3.968254             63\n",
       "AQB4DH57MSZSC   4.555556             63\n",
       "AR1T36GLLAFFX   4.365079             63\n",
       "ATNOI7E8GTIVE   4.650794             63\n",
       "AUUV3XDYB16X5   4.650794             63\n",
       "AWJWCKB92RJX2   3.936508             63"
      ]
     },
     "execution_count": 25,
     "metadata": {},
     "output_type": "execute_result"
    }
   ],
   "source": [
    "ratings_mean_count_usr = pd.DataFrame(amazon_electronics_data_usr.groupby('UserId')['Ratings'].mean()) \n",
    "ratings_mean_count_usr['rating_counts'] = pd.DataFrame(amazon_electronics_data_usr.groupby('UserId')['Ratings'].count())\n",
    "ratings_mean_count_usr[ratings_mean_count_usr['rating_counts']==ratings_mean_count_usr['rating_counts'].value_counts().max()]"
   ]
  },
  {
   "cell_type": "markdown",
   "metadata": {},
   "source": [
    "There are 36 users who have provided mean ratign between 3 - 4 63 times."
   ]
  },
  {
   "cell_type": "markdown",
   "metadata": {},
   "source": [
    "# SVD"
   ]
  },
  {
   "cell_type": "code",
   "execution_count": 26,
   "metadata": {},
   "outputs": [],
   "source": [
    "# Singular Value Decomposition\n",
    "U, sigma, Vt = svds(final_ratings_matrix_usr, k = 10)"
   ]
  },
  {
   "cell_type": "code",
   "execution_count": 27,
   "metadata": {},
   "outputs": [
    {
     "name": "stdout",
     "output_type": "stream",
     "text": [
      "Left singular matrix: \n",
      " [[-0.00960811  0.0047413  -0.01133839 ... -0.02155433 -0.03413016\n",
      "  -0.02121137]\n",
      " [-0.01051152  0.01828392 -0.00440581 ... -0.01085919  0.02036194\n",
      "  -0.03868162]\n",
      " [-0.00033812 -0.00410202 -0.00366842 ...  0.02975591  0.03284298\n",
      "  -0.03354981]\n",
      " ...\n",
      " [-0.0059742   0.08701729  0.02149716 ... -0.01606818 -0.16121324\n",
      "  -0.06013971]\n",
      " [ 0.00165383  0.00360442 -0.00378514 ... -0.00646961  0.00466412\n",
      "  -0.01349047]\n",
      " [ 0.0006001   0.00414323  0.00198817 ... -0.01230474 -0.00229233\n",
      "  -0.00561352]]\n",
      "\n",
      "Right singular matrix: \n",
      " [[ 5.50536427e-04  1.07351822e-04  4.97209056e-03 ... -1.92240073e-02\n",
      "  -8.30897610e-03 -1.60647481e-03]\n",
      " [-4.72716412e-04  4.11827301e-04 -3.93664027e-03 ... -2.75388338e-02\n",
      "  -1.44923234e-03 -1.25127102e-03]\n",
      " [ 1.98409718e-04 -4.59856033e-04 -2.18098022e-03 ...  1.02843893e-02\n",
      "   2.49122232e-03 -4.55604968e-04]\n",
      " ...\n",
      " [-1.31579189e-03 -4.67220584e-04 -6.77714820e-04 ...  1.33865670e-02\n",
      "   4.39051485e-03 -1.17218739e-03]\n",
      " [-1.70856189e-04 -8.66485907e-05  5.47589425e-04 ... -3.34667526e-02\n",
      "  -1.32027531e-02 -2.24109476e-03]\n",
      " [-2.58239126e-04 -6.66315892e-04 -2.29058738e-03 ... -1.04320457e-02\n",
      "  -3.82718735e-03 -8.78261559e-04]]\n"
     ]
    }
   ],
   "source": [
    "print('Left singular matrix: \\n',U)\n",
    "print('\\nRight singular matrix: \\n',Vt)"
   ]
  },
  {
   "cell_type": "code",
   "execution_count": 28,
   "metadata": {},
   "outputs": [
    {
     "name": "stdout",
     "output_type": "stream",
     "text": [
      "Sigma: \n",
      " [ 87.24957032  88.39685887  91.08547353  92.06057958  94.99760999\n",
      "  98.0847158  100.33308601 106.66806285 119.47759792 181.5107964 ]\n",
      "Diagonal matrix: \n",
      " [[ 87.24957032   0.           0.           0.           0.\n",
      "    0.           0.           0.           0.           0.        ]\n",
      " [  0.          88.39685887   0.           0.           0.\n",
      "    0.           0.           0.           0.           0.        ]\n",
      " [  0.           0.          91.08547353   0.           0.\n",
      "    0.           0.           0.           0.           0.        ]\n",
      " [  0.           0.           0.          92.06057958   0.\n",
      "    0.           0.           0.           0.           0.        ]\n",
      " [  0.           0.           0.           0.          94.99760999\n",
      "    0.           0.           0.           0.           0.        ]\n",
      " [  0.           0.           0.           0.           0.\n",
      "   98.0847158    0.           0.           0.           0.        ]\n",
      " [  0.           0.           0.           0.           0.\n",
      "    0.         100.33308601   0.           0.           0.        ]\n",
      " [  0.           0.           0.           0.           0.\n",
      "    0.           0.         106.66806285   0.           0.        ]\n",
      " [  0.           0.           0.           0.           0.\n",
      "    0.           0.           0.         119.47759792   0.        ]\n",
      " [  0.           0.           0.           0.           0.\n",
      "    0.           0.           0.           0.         181.5107964 ]]\n"
     ]
    }
   ],
   "source": [
    "print('Sigma: \\n',sigma)\n",
    "# Construct diagonal array in SVD\n",
    "sigma = np.diag(sigma)\n",
    "print('Diagonal matrix: \\n',sigma)"
   ]
  },
  {
   "cell_type": "code",
   "execution_count": 29,
   "metadata": {},
   "outputs": [
    {
     "data": {
      "text/html": [
       "<div>\n",
       "<style scoped>\n",
       "    .dataframe tbody tr th:only-of-type {\n",
       "        vertical-align: middle;\n",
       "    }\n",
       "\n",
       "    .dataframe tbody tr th {\n",
       "        vertical-align: top;\n",
       "    }\n",
       "\n",
       "    .dataframe thead th {\n",
       "        text-align: right;\n",
       "    }\n",
       "</style>\n",
       "<table border=\"1\" class=\"dataframe\">\n",
       "  <thead>\n",
       "    <tr style=\"text-align: right;\">\n",
       "      <th>ProductId</th>\n",
       "      <th>UserId</th>\n",
       "      <th>0594481813</th>\n",
       "      <th>0970407998</th>\n",
       "      <th>0972683275</th>\n",
       "      <th>1400501466</th>\n",
       "      <th>1400501520</th>\n",
       "      <th>1400501776</th>\n",
       "      <th>1400532620</th>\n",
       "      <th>1400532655</th>\n",
       "      <th>140053271X</th>\n",
       "      <th>...</th>\n",
       "      <th>B00L5YZCCG</th>\n",
       "      <th>B00L8I6SFY</th>\n",
       "      <th>B00L8QCVL6</th>\n",
       "      <th>B00LA6T0LS</th>\n",
       "      <th>B00LBZ1Z7K</th>\n",
       "      <th>B00LED02VY</th>\n",
       "      <th>B00LGN7Y3G</th>\n",
       "      <th>B00LGQ6HL8</th>\n",
       "      <th>B00LI4ZZO8</th>\n",
       "      <th>B00LKG1MC8</th>\n",
       "    </tr>\n",
       "  </thead>\n",
       "  <tbody>\n",
       "    <tr>\n",
       "      <td>0</td>\n",
       "      <td>A100UD67AHFODS</td>\n",
       "      <td>0.003574</td>\n",
       "      <td>0.004106</td>\n",
       "      <td>0.004114</td>\n",
       "      <td>0.001519</td>\n",
       "      <td>0.003071</td>\n",
       "      <td>0.005844</td>\n",
       "      <td>0.000504</td>\n",
       "      <td>0.010546</td>\n",
       "      <td>0.002704</td>\n",
       "      <td>...</td>\n",
       "      <td>0.000605</td>\n",
       "      <td>0.044718</td>\n",
       "      <td>0.002920</td>\n",
       "      <td>0.060948</td>\n",
       "      <td>-0.002402</td>\n",
       "      <td>0.006796</td>\n",
       "      <td>0.001514</td>\n",
       "      <td>0.131030</td>\n",
       "      <td>0.059635</td>\n",
       "      <td>0.015090</td>\n",
       "    </tr>\n",
       "    <tr>\n",
       "      <td>1</td>\n",
       "      <td>A100WO06OQR8BQ</td>\n",
       "      <td>0.002569</td>\n",
       "      <td>0.005363</td>\n",
       "      <td>0.013273</td>\n",
       "      <td>0.006607</td>\n",
       "      <td>0.001513</td>\n",
       "      <td>0.013490</td>\n",
       "      <td>0.000304</td>\n",
       "      <td>-0.004528</td>\n",
       "      <td>0.001254</td>\n",
       "      <td>...</td>\n",
       "      <td>0.000228</td>\n",
       "      <td>0.029384</td>\n",
       "      <td>0.000089</td>\n",
       "      <td>0.000636</td>\n",
       "      <td>-0.003266</td>\n",
       "      <td>-0.000550</td>\n",
       "      <td>0.004386</td>\n",
       "      <td>-0.039361</td>\n",
       "      <td>-0.006408</td>\n",
       "      <td>0.003812</td>\n",
       "    </tr>\n",
       "    <tr>\n",
       "      <td>2</td>\n",
       "      <td>A105S56ODHGJEK</td>\n",
       "      <td>-0.002541</td>\n",
       "      <td>0.002095</td>\n",
       "      <td>0.017831</td>\n",
       "      <td>0.006890</td>\n",
       "      <td>-0.002171</td>\n",
       "      <td>0.005816</td>\n",
       "      <td>0.003470</td>\n",
       "      <td>-0.004045</td>\n",
       "      <td>-0.001645</td>\n",
       "      <td>...</td>\n",
       "      <td>-0.000323</td>\n",
       "      <td>0.009498</td>\n",
       "      <td>-0.002494</td>\n",
       "      <td>-0.016874</td>\n",
       "      <td>0.019722</td>\n",
       "      <td>-0.002480</td>\n",
       "      <td>-0.000172</td>\n",
       "      <td>-0.003130</td>\n",
       "      <td>-0.011089</td>\n",
       "      <td>-0.004675</td>\n",
       "    </tr>\n",
       "    <tr>\n",
       "      <td>3</td>\n",
       "      <td>A105TOJ6LTVMBG</td>\n",
       "      <td>0.003963</td>\n",
       "      <td>0.001919</td>\n",
       "      <td>0.007592</td>\n",
       "      <td>0.002871</td>\n",
       "      <td>0.002890</td>\n",
       "      <td>0.003592</td>\n",
       "      <td>0.000112</td>\n",
       "      <td>0.005946</td>\n",
       "      <td>0.002477</td>\n",
       "      <td>...</td>\n",
       "      <td>0.000616</td>\n",
       "      <td>-0.003098</td>\n",
       "      <td>0.003469</td>\n",
       "      <td>-0.003241</td>\n",
       "      <td>-0.000767</td>\n",
       "      <td>0.000159</td>\n",
       "      <td>0.002695</td>\n",
       "      <td>-0.015041</td>\n",
       "      <td>-0.007067</td>\n",
       "      <td>0.003539</td>\n",
       "    </tr>\n",
       "    <tr>\n",
       "      <td>4</td>\n",
       "      <td>A10AFVU66A79Y1</td>\n",
       "      <td>0.000112</td>\n",
       "      <td>0.002091</td>\n",
       "      <td>0.008902</td>\n",
       "      <td>0.004068</td>\n",
       "      <td>0.000342</td>\n",
       "      <td>0.006062</td>\n",
       "      <td>0.001018</td>\n",
       "      <td>-0.000888</td>\n",
       "      <td>0.000375</td>\n",
       "      <td>...</td>\n",
       "      <td>0.000007</td>\n",
       "      <td>-0.000698</td>\n",
       "      <td>-0.000316</td>\n",
       "      <td>-0.024802</td>\n",
       "      <td>0.004501</td>\n",
       "      <td>-0.002146</td>\n",
       "      <td>0.001284</td>\n",
       "      <td>-0.048613</td>\n",
       "      <td>-0.016151</td>\n",
       "      <td>-0.003332</td>\n",
       "    </tr>\n",
       "  </tbody>\n",
       "</table>\n",
       "<p>5 rows × 47156 columns</p>\n",
       "</div>"
      ],
      "text/plain": [
       "ProductId          UserId  0594481813  0970407998  0972683275  1400501466  \\\n",
       "0          A100UD67AHFODS    0.003574    0.004106    0.004114    0.001519   \n",
       "1          A100WO06OQR8BQ    0.002569    0.005363    0.013273    0.006607   \n",
       "2          A105S56ODHGJEK   -0.002541    0.002095    0.017831    0.006890   \n",
       "3          A105TOJ6LTVMBG    0.003963    0.001919    0.007592    0.002871   \n",
       "4          A10AFVU66A79Y1    0.000112    0.002091    0.008902    0.004068   \n",
       "\n",
       "ProductId  1400501520  1400501776  1400532620  1400532655  140053271X  ...  \\\n",
       "0            0.003071    0.005844    0.000504    0.010546    0.002704  ...   \n",
       "1            0.001513    0.013490    0.000304   -0.004528    0.001254  ...   \n",
       "2           -0.002171    0.005816    0.003470   -0.004045   -0.001645  ...   \n",
       "3            0.002890    0.003592    0.000112    0.005946    0.002477  ...   \n",
       "4            0.000342    0.006062    0.001018   -0.000888    0.000375  ...   \n",
       "\n",
       "ProductId  B00L5YZCCG  B00L8I6SFY  B00L8QCVL6  B00LA6T0LS  B00LBZ1Z7K  \\\n",
       "0            0.000605    0.044718    0.002920    0.060948   -0.002402   \n",
       "1            0.000228    0.029384    0.000089    0.000636   -0.003266   \n",
       "2           -0.000323    0.009498   -0.002494   -0.016874    0.019722   \n",
       "3            0.000616   -0.003098    0.003469   -0.003241   -0.000767   \n",
       "4            0.000007   -0.000698   -0.000316   -0.024802    0.004501   \n",
       "\n",
       "ProductId  B00LED02VY  B00LGN7Y3G  B00LGQ6HL8  B00LI4ZZO8  B00LKG1MC8  \n",
       "0            0.006796    0.001514    0.131030    0.059635    0.015090  \n",
       "1           -0.000550    0.004386   -0.039361   -0.006408    0.003812  \n",
       "2           -0.002480   -0.000172   -0.003130   -0.011089   -0.004675  \n",
       "3            0.000159    0.002695   -0.015041   -0.007067    0.003539  \n",
       "4           -0.002146    0.001284   -0.048613   -0.016151   -0.003332  \n",
       "\n",
       "[5 rows x 47156 columns]"
      ]
     },
     "execution_count": 29,
     "metadata": {},
     "output_type": "execute_result"
    }
   ],
   "source": [
    "#Predicted ratings\n",
    "all_user_predicted_ratings = np.dot(np.dot(U, sigma), Vt) \n",
    "# Convert predicted ratings to dataframe\n",
    "predicted_ratings = pd.DataFrame(all_user_predicted_ratings, columns = final_ratings_matrix_usr.columns,index=final_ratings_matrix_usr.index)\n",
    "predicted_ratings.reset_index(inplace=True)\n",
    "final_ratings_matrix_usr.reset_index(inplace=True)\n",
    "predicted_ratings.head()"
   ]
  },
  {
   "cell_type": "code",
   "execution_count": 30,
   "metadata": {},
   "outputs": [
    {
     "name": "stdout",
     "output_type": "stream",
     "text": [
      "Actual Ratings by Users: \n",
      "\n",
      "ProductId          UserId  0594481813  0970407998  0972683275  1400501466  \\\n",
      "0          A100UD67AHFODS         0.0         0.0         0.0         0.0   \n",
      "1          A100WO06OQR8BQ         0.0         0.0         0.0         0.0   \n",
      "2          A105S56ODHGJEK         0.0         0.0         0.0         0.0   \n",
      "3          A105TOJ6LTVMBG         0.0         0.0         0.0         0.0   \n",
      "4          A10AFVU66A79Y1         0.0         0.0         0.0         0.0   \n",
      "\n",
      "ProductId  1400501520  1400501776  1400532620  1400532655  140053271X  ...  \\\n",
      "0                 0.0         0.0         0.0         0.0         0.0  ...   \n",
      "1                 0.0         0.0         0.0         0.0         0.0  ...   \n",
      "2                 0.0         0.0         0.0         0.0         0.0  ...   \n",
      "3                 0.0         0.0         0.0         0.0         0.0  ...   \n",
      "4                 0.0         0.0         0.0         0.0         0.0  ...   \n",
      "\n",
      "ProductId  B00L5YZCCG  B00L8I6SFY  B00L8QCVL6  B00LA6T0LS  B00LBZ1Z7K  \\\n",
      "0                 0.0         0.0         0.0         0.0         0.0   \n",
      "1                 0.0         0.0         0.0         0.0         0.0   \n",
      "2                 0.0         0.0         0.0         0.0         0.0   \n",
      "3                 0.0         0.0         0.0         0.0         0.0   \n",
      "4                 0.0         0.0         0.0         0.0         0.0   \n",
      "\n",
      "ProductId  B00LED02VY  B00LGN7Y3G  B00LGQ6HL8  B00LI4ZZO8  B00LKG1MC8  \n",
      "0                 0.0         0.0         0.0         0.0         0.0  \n",
      "1                 0.0         0.0         0.0         0.0         0.0  \n",
      "2                 0.0         0.0         0.0         0.0         0.0  \n",
      "3                 0.0         0.0         0.0         0.0         0.0  \n",
      "4                 0.0         0.0         0.0         0.0         0.0  \n",
      "\n",
      "[5 rows x 47156 columns]\n",
      "\n",
      "Average Actual Ratings by Users: \n",
      "\n",
      "ProductId\n",
      "0594481813    0.002046\n",
      "0970407998    0.003411\n",
      "0972683275    0.010232\n",
      "1400501466    0.010232\n",
      "1400501520    0.003411\n",
      "dtype: float64\n"
     ]
    }
   ],
   "source": [
    "# Actual ratings given by the users\n",
    "print('Actual Ratings by Users: \\n')\n",
    "print(final_ratings_matrix_usr.head(5))\n",
    "\n",
    "# Average ACTUAL rating for each item\n",
    "print('\\nAverage Actual Ratings by Users: \\n')\n",
    "print(final_ratings_matrix_usr.mean().head(5))"
   ]
  },
  {
   "cell_type": "code",
   "execution_count": 31,
   "metadata": {},
   "outputs": [
    {
     "name": "stdout",
     "output_type": "stream",
     "text": [
      "Predicted Ratings by Users: \n",
      "\n",
      "ProductId          UserId  0594481813  0970407998  0972683275  1400501466  \\\n",
      "0          A100UD67AHFODS    0.003574    0.004106    0.004114    0.001519   \n",
      "1          A100WO06OQR8BQ    0.002569    0.005363    0.013273    0.006607   \n",
      "2          A105S56ODHGJEK   -0.002541    0.002095    0.017831    0.006890   \n",
      "3          A105TOJ6LTVMBG    0.003963    0.001919    0.007592    0.002871   \n",
      "4          A10AFVU66A79Y1    0.000112    0.002091    0.008902    0.004068   \n",
      "\n",
      "ProductId  1400501520  1400501776  1400532620  1400532655  140053271X  ...  \\\n",
      "0            0.003071    0.005844    0.000504    0.010546    0.002704  ...   \n",
      "1            0.001513    0.013490    0.000304   -0.004528    0.001254  ...   \n",
      "2           -0.002171    0.005816    0.003470   -0.004045   -0.001645  ...   \n",
      "3            0.002890    0.003592    0.000112    0.005946    0.002477  ...   \n",
      "4            0.000342    0.006062    0.001018   -0.000888    0.000375  ...   \n",
      "\n",
      "ProductId  B00L5YZCCG  B00L8I6SFY  B00L8QCVL6  B00LA6T0LS  B00LBZ1Z7K  \\\n",
      "0            0.000605    0.044718    0.002920    0.060948   -0.002402   \n",
      "1            0.000228    0.029384    0.000089    0.000636   -0.003266   \n",
      "2           -0.000323    0.009498   -0.002494   -0.016874    0.019722   \n",
      "3            0.000616   -0.003098    0.003469   -0.003241   -0.000767   \n",
      "4            0.000007   -0.000698   -0.000316   -0.024802    0.004501   \n",
      "\n",
      "ProductId  B00LED02VY  B00LGN7Y3G  B00LGQ6HL8  B00LI4ZZO8  B00LKG1MC8  \n",
      "0            0.006796    0.001514    0.131030    0.059635    0.015090  \n",
      "1           -0.000550    0.004386   -0.039361   -0.006408    0.003812  \n",
      "2           -0.002480   -0.000172   -0.003130   -0.011089   -0.004675  \n",
      "3            0.000159    0.002695   -0.015041   -0.007067    0.003539  \n",
      "4           -0.002146    0.001284   -0.048613   -0.016151   -0.003332  \n",
      "\n",
      "[5 rows x 47156 columns]\n",
      "\n",
      " Average Predicted Ratings by Users: \n",
      "\n",
      "ProductId\n",
      "0594481813    0.002380\n",
      "0970407998    0.002716\n",
      "0972683275    0.010664\n",
      "1400501466    0.004101\n",
      "1400501520    0.001564\n",
      "dtype: float64\n"
     ]
    }
   ],
   "source": [
    "# Predicted ratings given by the users\n",
    "print('Predicted Ratings by Users: \\n')\n",
    "print(predicted_ratings.head(5))\n",
    "\n",
    "print('\\n Average Predicted Ratings by Users: \\n')\n",
    "print(predicted_ratings.mean().head(5))"
   ]
  },
  {
   "cell_type": "code",
   "execution_count": 33,
   "metadata": {},
   "outputs": [
    {
     "name": "stdout",
     "output_type": "stream",
     "text": [
      "(47155, 2)\n"
     ]
    },
    {
     "data": {
      "text/html": [
       "<div>\n",
       "<style scoped>\n",
       "    .dataframe tbody tr th:only-of-type {\n",
       "        vertical-align: middle;\n",
       "    }\n",
       "\n",
       "    .dataframe tbody tr th {\n",
       "        vertical-align: top;\n",
       "    }\n",
       "\n",
       "    .dataframe thead th {\n",
       "        text-align: right;\n",
       "    }\n",
       "</style>\n",
       "<table border=\"1\" class=\"dataframe\">\n",
       "  <thead>\n",
       "    <tr style=\"text-align: right;\">\n",
       "      <th></th>\n",
       "      <th>Average_Actual_Ratings</th>\n",
       "      <th>Average_Predicted_Ratings</th>\n",
       "      <th>Item_Index</th>\n",
       "    </tr>\n",
       "    <tr>\n",
       "      <th>ProductId</th>\n",
       "      <th></th>\n",
       "      <th></th>\n",
       "      <th></th>\n",
       "    </tr>\n",
       "  </thead>\n",
       "  <tbody>\n",
       "    <tr>\n",
       "      <td>0594481813</td>\n",
       "      <td>0.002046</td>\n",
       "      <td>0.002380</td>\n",
       "      <td>0</td>\n",
       "    </tr>\n",
       "    <tr>\n",
       "      <td>0970407998</td>\n",
       "      <td>0.003411</td>\n",
       "      <td>0.002716</td>\n",
       "      <td>1</td>\n",
       "    </tr>\n",
       "    <tr>\n",
       "      <td>0972683275</td>\n",
       "      <td>0.010232</td>\n",
       "      <td>0.010664</td>\n",
       "      <td>2</td>\n",
       "    </tr>\n",
       "    <tr>\n",
       "      <td>1400501466</td>\n",
       "      <td>0.010232</td>\n",
       "      <td>0.004101</td>\n",
       "      <td>3</td>\n",
       "    </tr>\n",
       "    <tr>\n",
       "      <td>1400501520</td>\n",
       "      <td>0.003411</td>\n",
       "      <td>0.001564</td>\n",
       "      <td>4</td>\n",
       "    </tr>\n",
       "  </tbody>\n",
       "</table>\n",
       "</div>"
      ],
      "text/plain": [
       "            Average_Actual_Ratings  Average_Predicted_Ratings  Item_Index\n",
       "ProductId                                                                \n",
       "0594481813                0.002046                   0.002380           0\n",
       "0970407998                0.003411                   0.002716           1\n",
       "0972683275                0.010232                   0.010664           2\n",
       "1400501466                0.010232                   0.004101           3\n",
       "1400501520                0.003411                   0.001564           4"
      ]
     },
     "execution_count": 33,
     "metadata": {},
     "output_type": "execute_result"
    }
   ],
   "source": [
    "rmse_df = pd.concat([final_ratings_matrix_usr.mean(), predicted_ratings.mean()], axis=1)\n",
    "rmse_df.columns = ['Average_Actual_Ratings', 'Average_Predicted_Ratings']\n",
    "print(rmse_df.shape)\n",
    "rmse_df['Item_Index'] = np.arange(0, rmse_df.shape[0], 1)\n",
    "rmse_df.head()"
   ]
  },
  {
   "cell_type": "code",
   "execution_count": 45,
   "metadata": {},
   "outputs": [
    {
     "name": "stdout",
     "output_type": "stream",
     "text": [
      "\n",
      "RMSE SVD Model = 0.00342\n",
      "\n",
      "MAE SVD Model = 0.00114\n"
     ]
    }
   ],
   "source": [
    "RMSE_SVD = round((((rmse_df.Average_Actual_Ratings - rmse_df.Average_Predicted_Ratings) ** 2).mean() ** 0.5), 5)\n",
    "print('\\nRMSE SVD Model = {}'.format(RMSE))\n",
    "\n",
    "MAE_SVD=round((rmse_df.Average_Actual_Ratings - rmse_df.Average_Predicted_Ratings).mean(),5)\n",
    "print('\\nMAE SVD Model = {}'.format(MAE))"
   ]
  },
  {
   "cell_type": "markdown",
   "metadata": {},
   "source": [
    "# Top 5 Recommendation:"
   ]
  },
  {
   "cell_type": "code",
   "execution_count": 93,
   "metadata": {},
   "outputs": [],
   "source": [
    "# Recommend the items with the highest predicted ratings\n",
    "\n",
    "def recommend_items(UserId, final_ratings_matrix_usr, predicted_ratings, num_recommendations):\n",
    "    # Get and sort the user's ratings and sorted_user_ratings\n",
    "    sorted_user_ratings = final_ratings_matrix_usr[final_ratings_matrix_usr['UserId']==UserId].sort_values(ascending=False,by='UserId').T\n",
    "     #sorted_user_predictions\n",
    "    sorted_user_predictions = predicted_ratings[predicted_ratings['UserId']==UserId].sort_values(ascending=False,by='UserId').T\n",
    "    #Creating the placeholder for User Rating and User Prediction\n",
    "    temp = pd.concat([sorted_user_ratings, sorted_user_predictions], axis=1)\n",
    "    temp.index.name = 'Recommended_Items'\n",
    "    temp.reset_index(inplace=True)\n",
    "    temp.columns = ['Recommended_Items','User_Ratings', 'User_Predictions']\n",
    "    temp = temp.loc[temp.User_Ratings == 0]   \n",
    "    temp = temp.sort_values('User_Predictions', ascending=False)\n",
    "    print('\\nBelow are the recommended items for user(user_id = {}):\\n'.format(UserId))\n",
    "    print(temp.head(num_recommendations))"
   ]
  },
  {
   "cell_type": "code",
   "execution_count": 94,
   "metadata": {},
   "outputs": [
    {
     "name": "stdout",
     "output_type": "stream",
     "text": [
      "\n",
      "Below are the recommended items for user(user_id = A100UD67AHFODS):\n",
      "\n",
      "      Recommended_Items User_Ratings User_Predictions\n",
      "24263        B003ES5ZUU            0          1.07137\n",
      "37408        B007WTAJTO            0         0.862878\n",
      "36910        B007OY5V68            0         0.666008\n",
      "45573        B00G4UQ6U8            0         0.636406\n",
      "21955        B002V88HFE            0         0.556682\n",
      "\n",
      "Below are the recommended items for user(user_id = A100WO06OQR8BQ):\n",
      "\n",
      "      Recommended_Items User_Ratings User_Predictions\n",
      "10821        B000N99BBC            0          1.45805\n",
      "37766        B00829TIEK            0          1.26993\n",
      "28122        B004CLYEDC            0          1.24378\n",
      "37762        B00829THK0            0          1.06747\n",
      "37805        B00834SJSK            0         0.797928\n",
      "\n",
      "Below are the recommended items for user(user_id = A105S56ODHGJEK):\n",
      "\n",
      "      Recommended_Items User_Ratings User_Predictions\n",
      "38147        B0088CJT4U            0          1.92631\n",
      "28122        B004CLYEDC            0          1.25003\n",
      "28124        B004CLYEFK            0          1.20686\n",
      "21487        B002R5AM7C            0           1.0419\n",
      "37762        B00829THK0            0          1.03244\n",
      "\n",
      "Below are the recommended items for user(user_id = A105TOJ6LTVMBG):\n",
      "\n",
      "      Recommended_Items User_Ratings User_Predictions\n",
      "37408        B007WTAJTO            0         0.818424\n",
      "24263        B003ES5ZUU            0          0.65961\n",
      "21955        B002V88HFE            0         0.428778\n",
      "18459        B001TH7GUU            0         0.387012\n",
      "11666        B000QUUFRW            0         0.364006\n",
      "\n",
      "Below are the recommended items for user(user_id = A10AFVU66A79Y1):\n",
      "\n",
      "      Recommended_Items User_Ratings User_Predictions\n",
      "38147        B0088CJT4U            0         0.912715\n",
      "10821        B000N99BBC            0         0.753376\n",
      "37766        B00829TIEK            0         0.726695\n",
      "28122        B004CLYEDC            0         0.658597\n",
      "38472        B008DWCRQW            0         0.657139\n"
     ]
    }
   ],
   "source": [
    "#Top 5 recommendation for users\n",
    "for i in final_ratings_matrix_usr['UserId'].head(5):\n",
    "    recommend_items(i, final_ratings_matrix_usr, predicted_ratings, 5)"
   ]
  },
  {
   "cell_type": "markdown",
   "metadata": {},
   "source": [
    "# Summary"
   ]
  },
  {
   "cell_type": "code",
   "execution_count": 48,
   "metadata": {},
   "outputs": [
    {
     "name": "stdout",
     "output_type": "stream",
     "text": [
      "RMSE Scores:\n",
      "\n",
      " USER-USER:1.0501383914689786\n",
      "\n",
      " ITEM-ITEM:1.1821732889193572\n",
      "\n",
      " SVD:0.00342\n",
      "\n",
      "MAE Scores:\n",
      "\n",
      " USER-USER:0.774633806511324\n",
      "\n",
      " ITEM-ITEM:0.8531086118796806\n",
      "\n",
      " SVD:0.00114\n"
     ]
    }
   ],
   "source": [
    "print('RMSE Scores:')\n",
    "print('\\n USER-USER:{}'.format(RMSE_USER_USER))\n",
    "print('\\n ITEM-ITEM:{}'.format(RMSE_ITEM_ITEM))\n",
    "print('\\n SVD:{}'.format(RMSE_SVD))\n",
    "\n",
    "print('\\nMAE Scores:')\n",
    "print('\\n USER-USER:{}'.format(MAE_USER_USER))\n",
    "print('\\n ITEM-ITEM:{}'.format(MAE_ITEM_ITEM))\n",
    "print('\\n SVD:{}'.format(MAE_SVD))"
   ]
  },
  {
   "cell_type": "markdown",
   "metadata": {},
   "source": [
    "Popularity based recommendation system works by recommending items viewed/purchased by most people and rated high .\n",
    "The Popularity-based recommender system is a non-personalised recommender system and these are based on most rated products.\n",
    "In such case if a user has purchased a product once and rated 5 will be picked over the product which has been rated 4 by multiple Users.\n",
    "Though the second product is most suitable for the recommendations it will not be considered in Popularity-based recommender system.\n",
    "Also if the User has already purchased the popular products the same will be suggested for the same Users.\n",
    "\n",
    "\n",
    "Model-based Collaborative Filtering is a personalised recommender system.Algorithm is entirely based on the user’s past behaviour and not on the context.\n",
    "Basic assumptions that we consider while building the del-based Collaborative Filtering are:\n",
    "• Customers who had similar tastes in the past, will have similar tastes in the future\n",
    "• Users give ratings to Products (implicitly or explicitly).\n",
    "\n",
    "User - User Based Collaborative filtering\n",
    "Find out the users who have a similar taste of products as the current user chosen. Similarity is based upon similarity in their purchasing behaviour.\n",
    "The rating matrix is directly used to find neighbours / make predictions. This will solve the cold start problem. \n",
    "The RMSE score for the model is 1.05 and MAE is 1.18 which is very high value and is not a good model.\n",
    "\n",
    "\n",
    "Item - Item Based Collaborative filtering\n",
    "Recommend items to the user that are similar to the items the user has bought.Similarity is based upon co-occurence of purchases i.e.\n",
    "Use the similarity between items (and not users) to make predictions\n",
    "The RMSE score for the model is 0.77 and MAE is 0.85 which is better than User - User Based Collaborative filtering model.\n",
    "\n",
    "\n",
    "Matrix Factorization Models:\n",
    "This model involves identifying the latent features from the input users and items. This creates Rating Matrix to represent Users & Items as vectors in N dimensional Space.The model is predicting different items for different users.\n",
    "The RMSE score for the SVD(Singular Value Decomposition) is 0.00342 and MAE is 0.00114 which is close to 0. And is excellent model for prediction."
   ]
  }
 ],
 "metadata": {
  "kernelspec": {
   "display_name": "Python 3",
   "language": "python",
   "name": "python3"
  },
  "language_info": {
   "codemirror_mode": {
    "name": "ipython",
    "version": 3
   },
   "file_extension": ".py",
   "mimetype": "text/x-python",
   "name": "python",
   "nbconvert_exporter": "python",
   "pygments_lexer": "ipython3",
   "version": "3.7.4"
  }
 },
 "nbformat": 4,
 "nbformat_minor": 2
}
